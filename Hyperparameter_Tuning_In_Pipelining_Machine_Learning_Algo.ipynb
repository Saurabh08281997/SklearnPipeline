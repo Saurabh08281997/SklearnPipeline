{
  "cells": [
    {
      "cell_type": "code",
      "execution_count": 1,
      "metadata": {
        "id": "GHj1kn8mExKB"
      },
      "outputs": [],
      "source": [
        "import numpy as np\n",
        "from sklearn.pipeline import make_pipeline\n",
        "from sklearn.pipeline import Pipeline\n",
        "from sklearn.impute import SimpleImputer\n",
        "from sklearn.compose import ColumnTransformer\n",
        "from sklearn.preprocessing import OneHotEncoder, StandardScaler\n",
        "from sklearn.ensemble import RandomForestRegressor\n",
        "from sklearn.model_selection import GridSearchCV"
      ]
    },
    {
      "cell_type": "code",
      "execution_count": 2,
      "metadata": {
        "id": "EJv4_sa5ExKF"
      },
      "outputs": [],
      "source": [
        "import seaborn as sns"
      ]
    },
    {
      "cell_type": "code",
      "execution_count": 3,
      "metadata": {
        "id": "sICbsWKKExKG"
      },
      "outputs": [],
      "source": [
        "df=sns.load_dataset('tips')"
      ]
    },
    {
      "cell_type": "code",
      "execution_count": 4,
      "metadata": {
        "colab": {
          "base_uri": "https://localhost:8080/",
          "height": 206
        },
        "id": "JcfKJYQ7ExKI",
        "outputId": "9d21d942-4352-4fb5-cad4-93760a62da5e"
      },
      "outputs": [
        {
          "output_type": "execute_result",
          "data": {
            "text/plain": [
              "   total_bill   tip     sex smoker  day    time  size\n",
              "0       16.99  1.01  Female     No  Sun  Dinner     2\n",
              "1       10.34  1.66    Male     No  Sun  Dinner     3\n",
              "2       21.01  3.50    Male     No  Sun  Dinner     3\n",
              "3       23.68  3.31    Male     No  Sun  Dinner     2\n",
              "4       24.59  3.61  Female     No  Sun  Dinner     4"
            ],
            "text/html": [
              "\n",
              "  <div id=\"df-d0007304-ed00-4e2a-a39f-16acffb00ea4\">\n",
              "    <div class=\"colab-df-container\">\n",
              "      <div>\n",
              "<style scoped>\n",
              "    .dataframe tbody tr th:only-of-type {\n",
              "        vertical-align: middle;\n",
              "    }\n",
              "\n",
              "    .dataframe tbody tr th {\n",
              "        vertical-align: top;\n",
              "    }\n",
              "\n",
              "    .dataframe thead th {\n",
              "        text-align: right;\n",
              "    }\n",
              "</style>\n",
              "<table border=\"1\" class=\"dataframe\">\n",
              "  <thead>\n",
              "    <tr style=\"text-align: right;\">\n",
              "      <th></th>\n",
              "      <th>total_bill</th>\n",
              "      <th>tip</th>\n",
              "      <th>sex</th>\n",
              "      <th>smoker</th>\n",
              "      <th>day</th>\n",
              "      <th>time</th>\n",
              "      <th>size</th>\n",
              "    </tr>\n",
              "  </thead>\n",
              "  <tbody>\n",
              "    <tr>\n",
              "      <th>0</th>\n",
              "      <td>16.99</td>\n",
              "      <td>1.01</td>\n",
              "      <td>Female</td>\n",
              "      <td>No</td>\n",
              "      <td>Sun</td>\n",
              "      <td>Dinner</td>\n",
              "      <td>2</td>\n",
              "    </tr>\n",
              "    <tr>\n",
              "      <th>1</th>\n",
              "      <td>10.34</td>\n",
              "      <td>1.66</td>\n",
              "      <td>Male</td>\n",
              "      <td>No</td>\n",
              "      <td>Sun</td>\n",
              "      <td>Dinner</td>\n",
              "      <td>3</td>\n",
              "    </tr>\n",
              "    <tr>\n",
              "      <th>2</th>\n",
              "      <td>21.01</td>\n",
              "      <td>3.50</td>\n",
              "      <td>Male</td>\n",
              "      <td>No</td>\n",
              "      <td>Sun</td>\n",
              "      <td>Dinner</td>\n",
              "      <td>3</td>\n",
              "    </tr>\n",
              "    <tr>\n",
              "      <th>3</th>\n",
              "      <td>23.68</td>\n",
              "      <td>3.31</td>\n",
              "      <td>Male</td>\n",
              "      <td>No</td>\n",
              "      <td>Sun</td>\n",
              "      <td>Dinner</td>\n",
              "      <td>2</td>\n",
              "    </tr>\n",
              "    <tr>\n",
              "      <th>4</th>\n",
              "      <td>24.59</td>\n",
              "      <td>3.61</td>\n",
              "      <td>Female</td>\n",
              "      <td>No</td>\n",
              "      <td>Sun</td>\n",
              "      <td>Dinner</td>\n",
              "      <td>4</td>\n",
              "    </tr>\n",
              "  </tbody>\n",
              "</table>\n",
              "</div>\n",
              "      <button class=\"colab-df-convert\" onclick=\"convertToInteractive('df-d0007304-ed00-4e2a-a39f-16acffb00ea4')\"\n",
              "              title=\"Convert this dataframe to an interactive table.\"\n",
              "              style=\"display:none;\">\n",
              "        \n",
              "  <svg xmlns=\"http://www.w3.org/2000/svg\" height=\"24px\"viewBox=\"0 0 24 24\"\n",
              "       width=\"24px\">\n",
              "    <path d=\"M0 0h24v24H0V0z\" fill=\"none\"/>\n",
              "    <path d=\"M18.56 5.44l.94 2.06.94-2.06 2.06-.94-2.06-.94-.94-2.06-.94 2.06-2.06.94zm-11 1L8.5 8.5l.94-2.06 2.06-.94-2.06-.94L8.5 2.5l-.94 2.06-2.06.94zm10 10l.94 2.06.94-2.06 2.06-.94-2.06-.94-.94-2.06-.94 2.06-2.06.94z\"/><path d=\"M17.41 7.96l-1.37-1.37c-.4-.4-.92-.59-1.43-.59-.52 0-1.04.2-1.43.59L10.3 9.45l-7.72 7.72c-.78.78-.78 2.05 0 2.83L4 21.41c.39.39.9.59 1.41.59.51 0 1.02-.2 1.41-.59l7.78-7.78 2.81-2.81c.8-.78.8-2.07 0-2.86zM5.41 20L4 18.59l7.72-7.72 1.47 1.35L5.41 20z\"/>\n",
              "  </svg>\n",
              "      </button>\n",
              "      \n",
              "  <style>\n",
              "    .colab-df-container {\n",
              "      display:flex;\n",
              "      flex-wrap:wrap;\n",
              "      gap: 12px;\n",
              "    }\n",
              "\n",
              "    .colab-df-convert {\n",
              "      background-color: #E8F0FE;\n",
              "      border: none;\n",
              "      border-radius: 50%;\n",
              "      cursor: pointer;\n",
              "      display: none;\n",
              "      fill: #1967D2;\n",
              "      height: 32px;\n",
              "      padding: 0 0 0 0;\n",
              "      width: 32px;\n",
              "    }\n",
              "\n",
              "    .colab-df-convert:hover {\n",
              "      background-color: #E2EBFA;\n",
              "      box-shadow: 0px 1px 2px rgba(60, 64, 67, 0.3), 0px 1px 3px 1px rgba(60, 64, 67, 0.15);\n",
              "      fill: #174EA6;\n",
              "    }\n",
              "\n",
              "    [theme=dark] .colab-df-convert {\n",
              "      background-color: #3B4455;\n",
              "      fill: #D2E3FC;\n",
              "    }\n",
              "\n",
              "    [theme=dark] .colab-df-convert:hover {\n",
              "      background-color: #434B5C;\n",
              "      box-shadow: 0px 1px 3px 1px rgba(0, 0, 0, 0.15);\n",
              "      filter: drop-shadow(0px 1px 2px rgba(0, 0, 0, 0.3));\n",
              "      fill: #FFFFFF;\n",
              "    }\n",
              "  </style>\n",
              "\n",
              "      <script>\n",
              "        const buttonEl =\n",
              "          document.querySelector('#df-d0007304-ed00-4e2a-a39f-16acffb00ea4 button.colab-df-convert');\n",
              "        buttonEl.style.display =\n",
              "          google.colab.kernel.accessAllowed ? 'block' : 'none';\n",
              "\n",
              "        async function convertToInteractive(key) {\n",
              "          const element = document.querySelector('#df-d0007304-ed00-4e2a-a39f-16acffb00ea4');\n",
              "          const dataTable =\n",
              "            await google.colab.kernel.invokeFunction('convertToInteractive',\n",
              "                                                     [key], {});\n",
              "          if (!dataTable) return;\n",
              "\n",
              "          const docLinkHtml = 'Like what you see? Visit the ' +\n",
              "            '<a target=\"_blank\" href=https://colab.research.google.com/notebooks/data_table.ipynb>data table notebook</a>'\n",
              "            + ' to learn more about interactive tables.';\n",
              "          element.innerHTML = '';\n",
              "          dataTable['output_type'] = 'display_data';\n",
              "          await google.colab.output.renderOutput(dataTable, element);\n",
              "          const docLink = document.createElement('div');\n",
              "          docLink.innerHTML = docLinkHtml;\n",
              "          element.appendChild(docLink);\n",
              "        }\n",
              "      </script>\n",
              "    </div>\n",
              "  </div>\n",
              "  "
            ]
          },
          "metadata": {},
          "execution_count": 4
        }
      ],
      "source": [
        "df.head()"
      ]
    },
    {
      "cell_type": "code",
      "execution_count": 5,
      "metadata": {
        "id": "c2iDX9FHExKK"
      },
      "outputs": [],
      "source": [
        "X=df.iloc[:,1:]\n",
        "y=df['total_bill']"
      ]
    },
    {
      "cell_type": "code",
      "execution_count": 6,
      "metadata": {
        "id": "NzvK8W4SExKM"
      },
      "outputs": [],
      "source": [
        "from sklearn.model_selection import train_test_split\n",
        "X_train,X_test,y_train,y_test=train_test_split(X,y,test_size=0.2)"
      ]
    },
    {
      "cell_type": "code",
      "execution_count": 7,
      "metadata": {
        "id": "e6ttY97dExKO"
      },
      "outputs": [],
      "source": [
        "## Pieplining\n",
        "numeric_preprocessor = Pipeline(\n",
        "    steps=[\n",
        "        (\"imputation_mean\", SimpleImputer(missing_values=np.nan, strategy=\"mean\")),\n",
        "        (\"scaler\", StandardScaler()),\n",
        "    ]\n",
        ")"
      ]
    },
    {
      "cell_type": "code",
      "execution_count": 8,
      "metadata": {
        "id": "n6eLQE3CExKT"
      },
      "outputs": [],
      "source": [
        "from sklearn import set_config"
      ]
    },
    {
      "cell_type": "code",
      "execution_count": 9,
      "metadata": {
        "id": "_Mwhmwb3ExKU"
      },
      "outputs": [],
      "source": [
        "set_config(display='diagram')"
      ]
    },
    {
      "cell_type": "code",
      "execution_count": 10,
      "metadata": {
        "colab": {
          "base_uri": "https://localhost:8080/",
          "height": 126
        },
        "id": "_bz0esO2ExKZ",
        "outputId": "39cc2822-fdbf-4644-f722-c53143904b3d"
      },
      "outputs": [
        {
          "output_type": "execute_result",
          "data": {
            "text/plain": [
              "Pipeline(steps=[('imputation_mean', SimpleImputer()),\n",
              "                ('scaler', StandardScaler())])"
            ],
            "text/html": [
              "<style>#sk-8ac8e219-9f87-4c1d-a079-18fe362ad1bc {color: black;background-color: white;}#sk-8ac8e219-9f87-4c1d-a079-18fe362ad1bc pre{padding: 0;}#sk-8ac8e219-9f87-4c1d-a079-18fe362ad1bc div.sk-toggleable {background-color: white;}#sk-8ac8e219-9f87-4c1d-a079-18fe362ad1bc label.sk-toggleable__label {cursor: pointer;display: block;width: 100%;margin-bottom: 0;padding: 0.3em;box-sizing: border-box;text-align: center;}#sk-8ac8e219-9f87-4c1d-a079-18fe362ad1bc label.sk-toggleable__label-arrow:before {content: \"▸\";float: left;margin-right: 0.25em;color: #696969;}#sk-8ac8e219-9f87-4c1d-a079-18fe362ad1bc label.sk-toggleable__label-arrow:hover:before {color: black;}#sk-8ac8e219-9f87-4c1d-a079-18fe362ad1bc div.sk-estimator:hover label.sk-toggleable__label-arrow:before {color: black;}#sk-8ac8e219-9f87-4c1d-a079-18fe362ad1bc div.sk-toggleable__content {max-height: 0;max-width: 0;overflow: hidden;text-align: left;background-color: #f0f8ff;}#sk-8ac8e219-9f87-4c1d-a079-18fe362ad1bc div.sk-toggleable__content pre {margin: 0.2em;color: black;border-radius: 0.25em;background-color: #f0f8ff;}#sk-8ac8e219-9f87-4c1d-a079-18fe362ad1bc input.sk-toggleable__control:checked~div.sk-toggleable__content {max-height: 200px;max-width: 100%;overflow: auto;}#sk-8ac8e219-9f87-4c1d-a079-18fe362ad1bc input.sk-toggleable__control:checked~label.sk-toggleable__label-arrow:before {content: \"▾\";}#sk-8ac8e219-9f87-4c1d-a079-18fe362ad1bc div.sk-estimator input.sk-toggleable__control:checked~label.sk-toggleable__label {background-color: #d4ebff;}#sk-8ac8e219-9f87-4c1d-a079-18fe362ad1bc div.sk-label input.sk-toggleable__control:checked~label.sk-toggleable__label {background-color: #d4ebff;}#sk-8ac8e219-9f87-4c1d-a079-18fe362ad1bc input.sk-hidden--visually {border: 0;clip: rect(1px 1px 1px 1px);clip: rect(1px, 1px, 1px, 1px);height: 1px;margin: -1px;overflow: hidden;padding: 0;position: absolute;width: 1px;}#sk-8ac8e219-9f87-4c1d-a079-18fe362ad1bc div.sk-estimator {font-family: monospace;background-color: #f0f8ff;border: 1px dotted black;border-radius: 0.25em;box-sizing: border-box;margin-bottom: 0.5em;}#sk-8ac8e219-9f87-4c1d-a079-18fe362ad1bc div.sk-estimator:hover {background-color: #d4ebff;}#sk-8ac8e219-9f87-4c1d-a079-18fe362ad1bc div.sk-parallel-item::after {content: \"\";width: 100%;border-bottom: 1px solid gray;flex-grow: 1;}#sk-8ac8e219-9f87-4c1d-a079-18fe362ad1bc div.sk-label:hover label.sk-toggleable__label {background-color: #d4ebff;}#sk-8ac8e219-9f87-4c1d-a079-18fe362ad1bc div.sk-serial::before {content: \"\";position: absolute;border-left: 1px solid gray;box-sizing: border-box;top: 2em;bottom: 0;left: 50%;}#sk-8ac8e219-9f87-4c1d-a079-18fe362ad1bc div.sk-serial {display: flex;flex-direction: column;align-items: center;background-color: white;padding-right: 0.2em;padding-left: 0.2em;}#sk-8ac8e219-9f87-4c1d-a079-18fe362ad1bc div.sk-item {z-index: 1;}#sk-8ac8e219-9f87-4c1d-a079-18fe362ad1bc div.sk-parallel {display: flex;align-items: stretch;justify-content: center;background-color: white;}#sk-8ac8e219-9f87-4c1d-a079-18fe362ad1bc div.sk-parallel::before {content: \"\";position: absolute;border-left: 1px solid gray;box-sizing: border-box;top: 2em;bottom: 0;left: 50%;}#sk-8ac8e219-9f87-4c1d-a079-18fe362ad1bc div.sk-parallel-item {display: flex;flex-direction: column;position: relative;background-color: white;}#sk-8ac8e219-9f87-4c1d-a079-18fe362ad1bc div.sk-parallel-item:first-child::after {align-self: flex-end;width: 50%;}#sk-8ac8e219-9f87-4c1d-a079-18fe362ad1bc div.sk-parallel-item:last-child::after {align-self: flex-start;width: 50%;}#sk-8ac8e219-9f87-4c1d-a079-18fe362ad1bc div.sk-parallel-item:only-child::after {width: 0;}#sk-8ac8e219-9f87-4c1d-a079-18fe362ad1bc div.sk-dashed-wrapped {border: 1px dashed gray;margin: 0 0.4em 0.5em 0.4em;box-sizing: border-box;padding-bottom: 0.4em;background-color: white;position: relative;}#sk-8ac8e219-9f87-4c1d-a079-18fe362ad1bc div.sk-label label {font-family: monospace;font-weight: bold;background-color: white;display: inline-block;line-height: 1.2em;}#sk-8ac8e219-9f87-4c1d-a079-18fe362ad1bc div.sk-label-container {position: relative;z-index: 2;text-align: center;}#sk-8ac8e219-9f87-4c1d-a079-18fe362ad1bc div.sk-container {/* jupyter's `normalize.less` sets `[hidden] { display: none; }` but bootstrap.min.css set `[hidden] { display: none !important; }` so we also need the `!important` here to be able to override the default hidden behavior on the sphinx rendered scikit-learn.org. See: https://github.com/scikit-learn/scikit-learn/issues/21755 */display: inline-block !important;position: relative;}#sk-8ac8e219-9f87-4c1d-a079-18fe362ad1bc div.sk-text-repr-fallback {display: none;}</style><div id=\"sk-8ac8e219-9f87-4c1d-a079-18fe362ad1bc\" class=\"sk-top-container\"><div class=\"sk-text-repr-fallback\"><pre>Pipeline(steps=[(&#x27;imputation_mean&#x27;, SimpleImputer()),\n",
              "                (&#x27;scaler&#x27;, StandardScaler())])</pre><b>Please rerun this cell to show the HTML repr or trust the notebook.</b></div><div class=\"sk-container\" hidden><div class=\"sk-item sk-dashed-wrapped\"><div class=\"sk-label-container\"><div class=\"sk-label sk-toggleable\"><input class=\"sk-toggleable__control sk-hidden--visually\" id=\"c2a90559-8d89-46e0-ac07-3224d606d57f\" type=\"checkbox\" ><label for=\"c2a90559-8d89-46e0-ac07-3224d606d57f\" class=\"sk-toggleable__label sk-toggleable__label-arrow\">Pipeline</label><div class=\"sk-toggleable__content\"><pre>Pipeline(steps=[(&#x27;imputation_mean&#x27;, SimpleImputer()),\n",
              "                (&#x27;scaler&#x27;, StandardScaler())])</pre></div></div></div><div class=\"sk-serial\"><div class=\"sk-item\"><div class=\"sk-estimator sk-toggleable\"><input class=\"sk-toggleable__control sk-hidden--visually\" id=\"7387b929-23a0-4b31-b4af-83018ffff323\" type=\"checkbox\" ><label for=\"7387b929-23a0-4b31-b4af-83018ffff323\" class=\"sk-toggleable__label sk-toggleable__label-arrow\">SimpleImputer</label><div class=\"sk-toggleable__content\"><pre>SimpleImputer()</pre></div></div></div><div class=\"sk-item\"><div class=\"sk-estimator sk-toggleable\"><input class=\"sk-toggleable__control sk-hidden--visually\" id=\"de5ed928-b131-41a2-ade3-a5526c5c904d\" type=\"checkbox\" ><label for=\"de5ed928-b131-41a2-ade3-a5526c5c904d\" class=\"sk-toggleable__label sk-toggleable__label-arrow\">StandardScaler</label><div class=\"sk-toggleable__content\"><pre>StandardScaler()</pre></div></div></div></div></div></div></div>"
            ]
          },
          "metadata": {},
          "execution_count": 10
        }
      ],
      "source": [
        "numeric_preprocessor"
      ]
    },
    {
      "cell_type": "code",
      "execution_count": 11,
      "metadata": {
        "id": "UUubaR-jExKc"
      },
      "outputs": [],
      "source": [
        "categorical_preprocessor = Pipeline(\n",
        "    steps=[\n",
        "        (\n",
        "            \"imputation_constant\",\n",
        "            SimpleImputer(fill_value=\"missing\", strategy=\"constant\"),\n",
        "        ),\n",
        "        (\"onehot\", OneHotEncoder(handle_unknown=\"ignore\")),\n",
        "    ]\n",
        ")"
      ]
    },
    {
      "cell_type": "code",
      "execution_count": 16,
      "metadata": {
        "id": "ehJPatBJExKe"
      },
      "outputs": [],
      "source": [
        "preprocessor=ColumnTransformer(\n",
        "    [(\"categorical\",categorical_preprocessor,[\"sex\",\"smoker\",\"day\",\"time\"]),\n",
        "    (\"numerical\",numeric_preprocessor,[\"tip\",\"size\"])]\n",
        ")"
      ]
    },
    {
      "cell_type": "code",
      "execution_count": 17,
      "metadata": {
        "colab": {
          "base_uri": "https://localhost:8080/",
          "height": 152
        },
        "id": "kRL_jN59ExKg",
        "outputId": "ebdc42f7-a875-497b-e7cf-e62c20ee49cf"
      },
      "outputs": [
        {
          "output_type": "execute_result",
          "data": {
            "text/plain": [
              "ColumnTransformer(transformers=[('categorical',\n",
              "                                 Pipeline(steps=[('imputation_constant',\n",
              "                                                  SimpleImputer(fill_value='missing',\n",
              "                                                                strategy='constant')),\n",
              "                                                 ('onehot',\n",
              "                                                  OneHotEncoder(handle_unknown='ignore'))]),\n",
              "                                 ['sex', 'smoker', 'day', 'time']),\n",
              "                                ('numerical',\n",
              "                                 Pipeline(steps=[('imputation_mean',\n",
              "                                                  SimpleImputer()),\n",
              "                                                 ('scaler', StandardScaler())]),\n",
              "                                 ['tip', 'size'])])"
            ],
            "text/html": [
              "<style>#sk-d7ca8b81-4a6c-4a9b-9723-2154b2718380 {color: black;background-color: white;}#sk-d7ca8b81-4a6c-4a9b-9723-2154b2718380 pre{padding: 0;}#sk-d7ca8b81-4a6c-4a9b-9723-2154b2718380 div.sk-toggleable {background-color: white;}#sk-d7ca8b81-4a6c-4a9b-9723-2154b2718380 label.sk-toggleable__label {cursor: pointer;display: block;width: 100%;margin-bottom: 0;padding: 0.3em;box-sizing: border-box;text-align: center;}#sk-d7ca8b81-4a6c-4a9b-9723-2154b2718380 label.sk-toggleable__label-arrow:before {content: \"▸\";float: left;margin-right: 0.25em;color: #696969;}#sk-d7ca8b81-4a6c-4a9b-9723-2154b2718380 label.sk-toggleable__label-arrow:hover:before {color: black;}#sk-d7ca8b81-4a6c-4a9b-9723-2154b2718380 div.sk-estimator:hover label.sk-toggleable__label-arrow:before {color: black;}#sk-d7ca8b81-4a6c-4a9b-9723-2154b2718380 div.sk-toggleable__content {max-height: 0;max-width: 0;overflow: hidden;text-align: left;background-color: #f0f8ff;}#sk-d7ca8b81-4a6c-4a9b-9723-2154b2718380 div.sk-toggleable__content pre {margin: 0.2em;color: black;border-radius: 0.25em;background-color: #f0f8ff;}#sk-d7ca8b81-4a6c-4a9b-9723-2154b2718380 input.sk-toggleable__control:checked~div.sk-toggleable__content {max-height: 200px;max-width: 100%;overflow: auto;}#sk-d7ca8b81-4a6c-4a9b-9723-2154b2718380 input.sk-toggleable__control:checked~label.sk-toggleable__label-arrow:before {content: \"▾\";}#sk-d7ca8b81-4a6c-4a9b-9723-2154b2718380 div.sk-estimator input.sk-toggleable__control:checked~label.sk-toggleable__label {background-color: #d4ebff;}#sk-d7ca8b81-4a6c-4a9b-9723-2154b2718380 div.sk-label input.sk-toggleable__control:checked~label.sk-toggleable__label {background-color: #d4ebff;}#sk-d7ca8b81-4a6c-4a9b-9723-2154b2718380 input.sk-hidden--visually {border: 0;clip: rect(1px 1px 1px 1px);clip: rect(1px, 1px, 1px, 1px);height: 1px;margin: -1px;overflow: hidden;padding: 0;position: absolute;width: 1px;}#sk-d7ca8b81-4a6c-4a9b-9723-2154b2718380 div.sk-estimator {font-family: monospace;background-color: #f0f8ff;border: 1px dotted black;border-radius: 0.25em;box-sizing: border-box;margin-bottom: 0.5em;}#sk-d7ca8b81-4a6c-4a9b-9723-2154b2718380 div.sk-estimator:hover {background-color: #d4ebff;}#sk-d7ca8b81-4a6c-4a9b-9723-2154b2718380 div.sk-parallel-item::after {content: \"\";width: 100%;border-bottom: 1px solid gray;flex-grow: 1;}#sk-d7ca8b81-4a6c-4a9b-9723-2154b2718380 div.sk-label:hover label.sk-toggleable__label {background-color: #d4ebff;}#sk-d7ca8b81-4a6c-4a9b-9723-2154b2718380 div.sk-serial::before {content: \"\";position: absolute;border-left: 1px solid gray;box-sizing: border-box;top: 2em;bottom: 0;left: 50%;}#sk-d7ca8b81-4a6c-4a9b-9723-2154b2718380 div.sk-serial {display: flex;flex-direction: column;align-items: center;background-color: white;padding-right: 0.2em;padding-left: 0.2em;}#sk-d7ca8b81-4a6c-4a9b-9723-2154b2718380 div.sk-item {z-index: 1;}#sk-d7ca8b81-4a6c-4a9b-9723-2154b2718380 div.sk-parallel {display: flex;align-items: stretch;justify-content: center;background-color: white;}#sk-d7ca8b81-4a6c-4a9b-9723-2154b2718380 div.sk-parallel::before {content: \"\";position: absolute;border-left: 1px solid gray;box-sizing: border-box;top: 2em;bottom: 0;left: 50%;}#sk-d7ca8b81-4a6c-4a9b-9723-2154b2718380 div.sk-parallel-item {display: flex;flex-direction: column;position: relative;background-color: white;}#sk-d7ca8b81-4a6c-4a9b-9723-2154b2718380 div.sk-parallel-item:first-child::after {align-self: flex-end;width: 50%;}#sk-d7ca8b81-4a6c-4a9b-9723-2154b2718380 div.sk-parallel-item:last-child::after {align-self: flex-start;width: 50%;}#sk-d7ca8b81-4a6c-4a9b-9723-2154b2718380 div.sk-parallel-item:only-child::after {width: 0;}#sk-d7ca8b81-4a6c-4a9b-9723-2154b2718380 div.sk-dashed-wrapped {border: 1px dashed gray;margin: 0 0.4em 0.5em 0.4em;box-sizing: border-box;padding-bottom: 0.4em;background-color: white;position: relative;}#sk-d7ca8b81-4a6c-4a9b-9723-2154b2718380 div.sk-label label {font-family: monospace;font-weight: bold;background-color: white;display: inline-block;line-height: 1.2em;}#sk-d7ca8b81-4a6c-4a9b-9723-2154b2718380 div.sk-label-container {position: relative;z-index: 2;text-align: center;}#sk-d7ca8b81-4a6c-4a9b-9723-2154b2718380 div.sk-container {/* jupyter's `normalize.less` sets `[hidden] { display: none; }` but bootstrap.min.css set `[hidden] { display: none !important; }` so we also need the `!important` here to be able to override the default hidden behavior on the sphinx rendered scikit-learn.org. See: https://github.com/scikit-learn/scikit-learn/issues/21755 */display: inline-block !important;position: relative;}#sk-d7ca8b81-4a6c-4a9b-9723-2154b2718380 div.sk-text-repr-fallback {display: none;}</style><div id=\"sk-d7ca8b81-4a6c-4a9b-9723-2154b2718380\" class=\"sk-top-container\"><div class=\"sk-text-repr-fallback\"><pre>ColumnTransformer(transformers=[(&#x27;categorical&#x27;,\n",
              "                                 Pipeline(steps=[(&#x27;imputation_constant&#x27;,\n",
              "                                                  SimpleImputer(fill_value=&#x27;missing&#x27;,\n",
              "                                                                strategy=&#x27;constant&#x27;)),\n",
              "                                                 (&#x27;onehot&#x27;,\n",
              "                                                  OneHotEncoder(handle_unknown=&#x27;ignore&#x27;))]),\n",
              "                                 [&#x27;sex&#x27;, &#x27;smoker&#x27;, &#x27;day&#x27;, &#x27;time&#x27;]),\n",
              "                                (&#x27;numerical&#x27;,\n",
              "                                 Pipeline(steps=[(&#x27;imputation_mean&#x27;,\n",
              "                                                  SimpleImputer()),\n",
              "                                                 (&#x27;scaler&#x27;, StandardScaler())]),\n",
              "                                 [&#x27;tip&#x27;, &#x27;size&#x27;])])</pre><b>Please rerun this cell to show the HTML repr or trust the notebook.</b></div><div class=\"sk-container\" hidden><div class=\"sk-item sk-dashed-wrapped\"><div class=\"sk-label-container\"><div class=\"sk-label sk-toggleable\"><input class=\"sk-toggleable__control sk-hidden--visually\" id=\"fd8cffb0-446f-4f23-9373-66e1ec23296a\" type=\"checkbox\" ><label for=\"fd8cffb0-446f-4f23-9373-66e1ec23296a\" class=\"sk-toggleable__label sk-toggleable__label-arrow\">ColumnTransformer</label><div class=\"sk-toggleable__content\"><pre>ColumnTransformer(transformers=[(&#x27;categorical&#x27;,\n",
              "                                 Pipeline(steps=[(&#x27;imputation_constant&#x27;,\n",
              "                                                  SimpleImputer(fill_value=&#x27;missing&#x27;,\n",
              "                                                                strategy=&#x27;constant&#x27;)),\n",
              "                                                 (&#x27;onehot&#x27;,\n",
              "                                                  OneHotEncoder(handle_unknown=&#x27;ignore&#x27;))]),\n",
              "                                 [&#x27;sex&#x27;, &#x27;smoker&#x27;, &#x27;day&#x27;, &#x27;time&#x27;]),\n",
              "                                (&#x27;numerical&#x27;,\n",
              "                                 Pipeline(steps=[(&#x27;imputation_mean&#x27;,\n",
              "                                                  SimpleImputer()),\n",
              "                                                 (&#x27;scaler&#x27;, StandardScaler())]),\n",
              "                                 [&#x27;tip&#x27;, &#x27;size&#x27;])])</pre></div></div></div><div class=\"sk-parallel\"><div class=\"sk-parallel-item\"><div class=\"sk-item\"><div class=\"sk-label-container\"><div class=\"sk-label sk-toggleable\"><input class=\"sk-toggleable__control sk-hidden--visually\" id=\"3551454a-e164-4471-a2ff-2bcb87c4b4f5\" type=\"checkbox\" ><label for=\"3551454a-e164-4471-a2ff-2bcb87c4b4f5\" class=\"sk-toggleable__label sk-toggleable__label-arrow\">categorical</label><div class=\"sk-toggleable__content\"><pre>[&#x27;sex&#x27;, &#x27;smoker&#x27;, &#x27;day&#x27;, &#x27;time&#x27;]</pre></div></div></div><div class=\"sk-serial\"><div class=\"sk-item\"><div class=\"sk-serial\"><div class=\"sk-item\"><div class=\"sk-estimator sk-toggleable\"><input class=\"sk-toggleable__control sk-hidden--visually\" id=\"cfd6202e-4f58-445c-a881-bede8ec63d23\" type=\"checkbox\" ><label for=\"cfd6202e-4f58-445c-a881-bede8ec63d23\" class=\"sk-toggleable__label sk-toggleable__label-arrow\">SimpleImputer</label><div class=\"sk-toggleable__content\"><pre>SimpleImputer(fill_value=&#x27;missing&#x27;, strategy=&#x27;constant&#x27;)</pre></div></div></div><div class=\"sk-item\"><div class=\"sk-estimator sk-toggleable\"><input class=\"sk-toggleable__control sk-hidden--visually\" id=\"883f8185-b753-4c4c-aef1-43a1eb58f2f6\" type=\"checkbox\" ><label for=\"883f8185-b753-4c4c-aef1-43a1eb58f2f6\" class=\"sk-toggleable__label sk-toggleable__label-arrow\">OneHotEncoder</label><div class=\"sk-toggleable__content\"><pre>OneHotEncoder(handle_unknown=&#x27;ignore&#x27;)</pre></div></div></div></div></div></div></div></div><div class=\"sk-parallel-item\"><div class=\"sk-item\"><div class=\"sk-label-container\"><div class=\"sk-label sk-toggleable\"><input class=\"sk-toggleable__control sk-hidden--visually\" id=\"1ffa569f-d2ee-455a-859f-1a4e11155b8b\" type=\"checkbox\" ><label for=\"1ffa569f-d2ee-455a-859f-1a4e11155b8b\" class=\"sk-toggleable__label sk-toggleable__label-arrow\">numerical</label><div class=\"sk-toggleable__content\"><pre>[&#x27;tip&#x27;, &#x27;size&#x27;]</pre></div></div></div><div class=\"sk-serial\"><div class=\"sk-item\"><div class=\"sk-serial\"><div class=\"sk-item\"><div class=\"sk-estimator sk-toggleable\"><input class=\"sk-toggleable__control sk-hidden--visually\" id=\"8b10db77-b732-4e3c-a05d-a2d9c7f696f5\" type=\"checkbox\" ><label for=\"8b10db77-b732-4e3c-a05d-a2d9c7f696f5\" class=\"sk-toggleable__label sk-toggleable__label-arrow\">SimpleImputer</label><div class=\"sk-toggleable__content\"><pre>SimpleImputer()</pre></div></div></div><div class=\"sk-item\"><div class=\"sk-estimator sk-toggleable\"><input class=\"sk-toggleable__control sk-hidden--visually\" id=\"fb542f93-f72e-4842-9649-592f1c6413a9\" type=\"checkbox\" ><label for=\"fb542f93-f72e-4842-9649-592f1c6413a9\" class=\"sk-toggleable__label sk-toggleable__label-arrow\">StandardScaler</label><div class=\"sk-toggleable__content\"><pre>StandardScaler()</pre></div></div></div></div></div></div></div></div></div></div></div></div>"
            ]
          },
          "metadata": {},
          "execution_count": 17
        }
      ],
      "source": [
        "preprocessor"
      ]
    },
    {
      "cell_type": "code",
      "execution_count": 18,
      "metadata": {
        "id": "L46yTyM9ExKj"
      },
      "outputs": [],
      "source": [
        "pipe=Pipeline(\n",
        "    [(\"preprocessor\",preprocessor),(\"regressor\",RandomForestRegressor())]\n",
        "\n",
        ")"
      ]
    },
    {
      "cell_type": "code",
      "execution_count": 19,
      "metadata": {
        "colab": {
          "base_uri": "https://localhost:8080/",
          "height": 227
        },
        "id": "JGzhhHUEExKl",
        "outputId": "0cb7a389-8e29-4f44-8ebb-d25827df7c6f"
      },
      "outputs": [
        {
          "output_type": "execute_result",
          "data": {
            "text/plain": [
              "Pipeline(steps=[('preprocessor',\n",
              "                 ColumnTransformer(transformers=[('categorical',\n",
              "                                                  Pipeline(steps=[('imputation_constant',\n",
              "                                                                   SimpleImputer(fill_value='missing',\n",
              "                                                                                 strategy='constant')),\n",
              "                                                                  ('onehot',\n",
              "                                                                   OneHotEncoder(handle_unknown='ignore'))]),\n",
              "                                                  ['sex', 'smoker', 'day',\n",
              "                                                   'time']),\n",
              "                                                 ('numerical',\n",
              "                                                  Pipeline(steps=[('imputation_mean',\n",
              "                                                                   SimpleImputer()),\n",
              "                                                                  ('scaler',\n",
              "                                                                   StandardScaler())]),\n",
              "                                                  ['tip', 'size'])])),\n",
              "                ('regressor', RandomForestRegressor())])"
            ],
            "text/html": [
              "<style>#sk-17bfe4d7-6b17-4cd9-b7e7-8a35d5a11001 {color: black;background-color: white;}#sk-17bfe4d7-6b17-4cd9-b7e7-8a35d5a11001 pre{padding: 0;}#sk-17bfe4d7-6b17-4cd9-b7e7-8a35d5a11001 div.sk-toggleable {background-color: white;}#sk-17bfe4d7-6b17-4cd9-b7e7-8a35d5a11001 label.sk-toggleable__label {cursor: pointer;display: block;width: 100%;margin-bottom: 0;padding: 0.3em;box-sizing: border-box;text-align: center;}#sk-17bfe4d7-6b17-4cd9-b7e7-8a35d5a11001 label.sk-toggleable__label-arrow:before {content: \"▸\";float: left;margin-right: 0.25em;color: #696969;}#sk-17bfe4d7-6b17-4cd9-b7e7-8a35d5a11001 label.sk-toggleable__label-arrow:hover:before {color: black;}#sk-17bfe4d7-6b17-4cd9-b7e7-8a35d5a11001 div.sk-estimator:hover label.sk-toggleable__label-arrow:before {color: black;}#sk-17bfe4d7-6b17-4cd9-b7e7-8a35d5a11001 div.sk-toggleable__content {max-height: 0;max-width: 0;overflow: hidden;text-align: left;background-color: #f0f8ff;}#sk-17bfe4d7-6b17-4cd9-b7e7-8a35d5a11001 div.sk-toggleable__content pre {margin: 0.2em;color: black;border-radius: 0.25em;background-color: #f0f8ff;}#sk-17bfe4d7-6b17-4cd9-b7e7-8a35d5a11001 input.sk-toggleable__control:checked~div.sk-toggleable__content {max-height: 200px;max-width: 100%;overflow: auto;}#sk-17bfe4d7-6b17-4cd9-b7e7-8a35d5a11001 input.sk-toggleable__control:checked~label.sk-toggleable__label-arrow:before {content: \"▾\";}#sk-17bfe4d7-6b17-4cd9-b7e7-8a35d5a11001 div.sk-estimator input.sk-toggleable__control:checked~label.sk-toggleable__label {background-color: #d4ebff;}#sk-17bfe4d7-6b17-4cd9-b7e7-8a35d5a11001 div.sk-label input.sk-toggleable__control:checked~label.sk-toggleable__label {background-color: #d4ebff;}#sk-17bfe4d7-6b17-4cd9-b7e7-8a35d5a11001 input.sk-hidden--visually {border: 0;clip: rect(1px 1px 1px 1px);clip: rect(1px, 1px, 1px, 1px);height: 1px;margin: -1px;overflow: hidden;padding: 0;position: absolute;width: 1px;}#sk-17bfe4d7-6b17-4cd9-b7e7-8a35d5a11001 div.sk-estimator {font-family: monospace;background-color: #f0f8ff;border: 1px dotted black;border-radius: 0.25em;box-sizing: border-box;margin-bottom: 0.5em;}#sk-17bfe4d7-6b17-4cd9-b7e7-8a35d5a11001 div.sk-estimator:hover {background-color: #d4ebff;}#sk-17bfe4d7-6b17-4cd9-b7e7-8a35d5a11001 div.sk-parallel-item::after {content: \"\";width: 100%;border-bottom: 1px solid gray;flex-grow: 1;}#sk-17bfe4d7-6b17-4cd9-b7e7-8a35d5a11001 div.sk-label:hover label.sk-toggleable__label {background-color: #d4ebff;}#sk-17bfe4d7-6b17-4cd9-b7e7-8a35d5a11001 div.sk-serial::before {content: \"\";position: absolute;border-left: 1px solid gray;box-sizing: border-box;top: 2em;bottom: 0;left: 50%;}#sk-17bfe4d7-6b17-4cd9-b7e7-8a35d5a11001 div.sk-serial {display: flex;flex-direction: column;align-items: center;background-color: white;padding-right: 0.2em;padding-left: 0.2em;}#sk-17bfe4d7-6b17-4cd9-b7e7-8a35d5a11001 div.sk-item {z-index: 1;}#sk-17bfe4d7-6b17-4cd9-b7e7-8a35d5a11001 div.sk-parallel {display: flex;align-items: stretch;justify-content: center;background-color: white;}#sk-17bfe4d7-6b17-4cd9-b7e7-8a35d5a11001 div.sk-parallel::before {content: \"\";position: absolute;border-left: 1px solid gray;box-sizing: border-box;top: 2em;bottom: 0;left: 50%;}#sk-17bfe4d7-6b17-4cd9-b7e7-8a35d5a11001 div.sk-parallel-item {display: flex;flex-direction: column;position: relative;background-color: white;}#sk-17bfe4d7-6b17-4cd9-b7e7-8a35d5a11001 div.sk-parallel-item:first-child::after {align-self: flex-end;width: 50%;}#sk-17bfe4d7-6b17-4cd9-b7e7-8a35d5a11001 div.sk-parallel-item:last-child::after {align-self: flex-start;width: 50%;}#sk-17bfe4d7-6b17-4cd9-b7e7-8a35d5a11001 div.sk-parallel-item:only-child::after {width: 0;}#sk-17bfe4d7-6b17-4cd9-b7e7-8a35d5a11001 div.sk-dashed-wrapped {border: 1px dashed gray;margin: 0 0.4em 0.5em 0.4em;box-sizing: border-box;padding-bottom: 0.4em;background-color: white;position: relative;}#sk-17bfe4d7-6b17-4cd9-b7e7-8a35d5a11001 div.sk-label label {font-family: monospace;font-weight: bold;background-color: white;display: inline-block;line-height: 1.2em;}#sk-17bfe4d7-6b17-4cd9-b7e7-8a35d5a11001 div.sk-label-container {position: relative;z-index: 2;text-align: center;}#sk-17bfe4d7-6b17-4cd9-b7e7-8a35d5a11001 div.sk-container {/* jupyter's `normalize.less` sets `[hidden] { display: none; }` but bootstrap.min.css set `[hidden] { display: none !important; }` so we also need the `!important` here to be able to override the default hidden behavior on the sphinx rendered scikit-learn.org. See: https://github.com/scikit-learn/scikit-learn/issues/21755 */display: inline-block !important;position: relative;}#sk-17bfe4d7-6b17-4cd9-b7e7-8a35d5a11001 div.sk-text-repr-fallback {display: none;}</style><div id=\"sk-17bfe4d7-6b17-4cd9-b7e7-8a35d5a11001\" class=\"sk-top-container\"><div class=\"sk-text-repr-fallback\"><pre>Pipeline(steps=[(&#x27;preprocessor&#x27;,\n",
              "                 ColumnTransformer(transformers=[(&#x27;categorical&#x27;,\n",
              "                                                  Pipeline(steps=[(&#x27;imputation_constant&#x27;,\n",
              "                                                                   SimpleImputer(fill_value=&#x27;missing&#x27;,\n",
              "                                                                                 strategy=&#x27;constant&#x27;)),\n",
              "                                                                  (&#x27;onehot&#x27;,\n",
              "                                                                   OneHotEncoder(handle_unknown=&#x27;ignore&#x27;))]),\n",
              "                                                  [&#x27;sex&#x27;, &#x27;smoker&#x27;, &#x27;day&#x27;,\n",
              "                                                   &#x27;time&#x27;]),\n",
              "                                                 (&#x27;numerical&#x27;,\n",
              "                                                  Pipeline(steps=[(&#x27;imputation_mean&#x27;,\n",
              "                                                                   SimpleImputer()),\n",
              "                                                                  (&#x27;scaler&#x27;,\n",
              "                                                                   StandardScaler())]),\n",
              "                                                  [&#x27;tip&#x27;, &#x27;size&#x27;])])),\n",
              "                (&#x27;regressor&#x27;, RandomForestRegressor())])</pre><b>Please rerun this cell to show the HTML repr or trust the notebook.</b></div><div class=\"sk-container\" hidden><div class=\"sk-item sk-dashed-wrapped\"><div class=\"sk-label-container\"><div class=\"sk-label sk-toggleable\"><input class=\"sk-toggleable__control sk-hidden--visually\" id=\"b6285988-f3e5-4d18-b040-55cd1965ee7d\" type=\"checkbox\" ><label for=\"b6285988-f3e5-4d18-b040-55cd1965ee7d\" class=\"sk-toggleable__label sk-toggleable__label-arrow\">Pipeline</label><div class=\"sk-toggleable__content\"><pre>Pipeline(steps=[(&#x27;preprocessor&#x27;,\n",
              "                 ColumnTransformer(transformers=[(&#x27;categorical&#x27;,\n",
              "                                                  Pipeline(steps=[(&#x27;imputation_constant&#x27;,\n",
              "                                                                   SimpleImputer(fill_value=&#x27;missing&#x27;,\n",
              "                                                                                 strategy=&#x27;constant&#x27;)),\n",
              "                                                                  (&#x27;onehot&#x27;,\n",
              "                                                                   OneHotEncoder(handle_unknown=&#x27;ignore&#x27;))]),\n",
              "                                                  [&#x27;sex&#x27;, &#x27;smoker&#x27;, &#x27;day&#x27;,\n",
              "                                                   &#x27;time&#x27;]),\n",
              "                                                 (&#x27;numerical&#x27;,\n",
              "                                                  Pipeline(steps=[(&#x27;imputation_mean&#x27;,\n",
              "                                                                   SimpleImputer()),\n",
              "                                                                  (&#x27;scaler&#x27;,\n",
              "                                                                   StandardScaler())]),\n",
              "                                                  [&#x27;tip&#x27;, &#x27;size&#x27;])])),\n",
              "                (&#x27;regressor&#x27;, RandomForestRegressor())])</pre></div></div></div><div class=\"sk-serial\"><div class=\"sk-item sk-dashed-wrapped\"><div class=\"sk-label-container\"><div class=\"sk-label sk-toggleable\"><input class=\"sk-toggleable__control sk-hidden--visually\" id=\"a942b66b-a256-4fa4-ab78-ef7897d0719d\" type=\"checkbox\" ><label for=\"a942b66b-a256-4fa4-ab78-ef7897d0719d\" class=\"sk-toggleable__label sk-toggleable__label-arrow\">preprocessor: ColumnTransformer</label><div class=\"sk-toggleable__content\"><pre>ColumnTransformer(transformers=[(&#x27;categorical&#x27;,\n",
              "                                 Pipeline(steps=[(&#x27;imputation_constant&#x27;,\n",
              "                                                  SimpleImputer(fill_value=&#x27;missing&#x27;,\n",
              "                                                                strategy=&#x27;constant&#x27;)),\n",
              "                                                 (&#x27;onehot&#x27;,\n",
              "                                                  OneHotEncoder(handle_unknown=&#x27;ignore&#x27;))]),\n",
              "                                 [&#x27;sex&#x27;, &#x27;smoker&#x27;, &#x27;day&#x27;, &#x27;time&#x27;]),\n",
              "                                (&#x27;numerical&#x27;,\n",
              "                                 Pipeline(steps=[(&#x27;imputation_mean&#x27;,\n",
              "                                                  SimpleImputer()),\n",
              "                                                 (&#x27;scaler&#x27;, StandardScaler())]),\n",
              "                                 [&#x27;tip&#x27;, &#x27;size&#x27;])])</pre></div></div></div><div class=\"sk-parallel\"><div class=\"sk-parallel-item\"><div class=\"sk-item\"><div class=\"sk-label-container\"><div class=\"sk-label sk-toggleable\"><input class=\"sk-toggleable__control sk-hidden--visually\" id=\"ff5565b9-40e2-4b2c-a1aa-50fc4486b1cd\" type=\"checkbox\" ><label for=\"ff5565b9-40e2-4b2c-a1aa-50fc4486b1cd\" class=\"sk-toggleable__label sk-toggleable__label-arrow\">categorical</label><div class=\"sk-toggleable__content\"><pre>[&#x27;sex&#x27;, &#x27;smoker&#x27;, &#x27;day&#x27;, &#x27;time&#x27;]</pre></div></div></div><div class=\"sk-serial\"><div class=\"sk-item\"><div class=\"sk-serial\"><div class=\"sk-item\"><div class=\"sk-estimator sk-toggleable\"><input class=\"sk-toggleable__control sk-hidden--visually\" id=\"4809800b-c0a1-4459-868c-2d33f61da555\" type=\"checkbox\" ><label for=\"4809800b-c0a1-4459-868c-2d33f61da555\" class=\"sk-toggleable__label sk-toggleable__label-arrow\">SimpleImputer</label><div class=\"sk-toggleable__content\"><pre>SimpleImputer(fill_value=&#x27;missing&#x27;, strategy=&#x27;constant&#x27;)</pre></div></div></div><div class=\"sk-item\"><div class=\"sk-estimator sk-toggleable\"><input class=\"sk-toggleable__control sk-hidden--visually\" id=\"4131d9ac-dad7-41ee-9771-6af79ec86244\" type=\"checkbox\" ><label for=\"4131d9ac-dad7-41ee-9771-6af79ec86244\" class=\"sk-toggleable__label sk-toggleable__label-arrow\">OneHotEncoder</label><div class=\"sk-toggleable__content\"><pre>OneHotEncoder(handle_unknown=&#x27;ignore&#x27;)</pre></div></div></div></div></div></div></div></div><div class=\"sk-parallel-item\"><div class=\"sk-item\"><div class=\"sk-label-container\"><div class=\"sk-label sk-toggleable\"><input class=\"sk-toggleable__control sk-hidden--visually\" id=\"2ebe7139-a785-4670-b6b2-2f398db898c6\" type=\"checkbox\" ><label for=\"2ebe7139-a785-4670-b6b2-2f398db898c6\" class=\"sk-toggleable__label sk-toggleable__label-arrow\">numerical</label><div class=\"sk-toggleable__content\"><pre>[&#x27;tip&#x27;, &#x27;size&#x27;]</pre></div></div></div><div class=\"sk-serial\"><div class=\"sk-item\"><div class=\"sk-serial\"><div class=\"sk-item\"><div class=\"sk-estimator sk-toggleable\"><input class=\"sk-toggleable__control sk-hidden--visually\" id=\"4bf7c307-2482-4d67-8b29-06bf21b72732\" type=\"checkbox\" ><label for=\"4bf7c307-2482-4d67-8b29-06bf21b72732\" class=\"sk-toggleable__label sk-toggleable__label-arrow\">SimpleImputer</label><div class=\"sk-toggleable__content\"><pre>SimpleImputer()</pre></div></div></div><div class=\"sk-item\"><div class=\"sk-estimator sk-toggleable\"><input class=\"sk-toggleable__control sk-hidden--visually\" id=\"d6f12e4f-c80b-44f7-a95d-08fac4e93b74\" type=\"checkbox\" ><label for=\"d6f12e4f-c80b-44f7-a95d-08fac4e93b74\" class=\"sk-toggleable__label sk-toggleable__label-arrow\">StandardScaler</label><div class=\"sk-toggleable__content\"><pre>StandardScaler()</pre></div></div></div></div></div></div></div></div></div></div><div class=\"sk-item\"><div class=\"sk-estimator sk-toggleable\"><input class=\"sk-toggleable__control sk-hidden--visually\" id=\"8bc64c97-7c0a-4297-8dce-6ee042d8fa6f\" type=\"checkbox\" ><label for=\"8bc64c97-7c0a-4297-8dce-6ee042d8fa6f\" class=\"sk-toggleable__label sk-toggleable__label-arrow\">RandomForestRegressor</label><div class=\"sk-toggleable__content\"><pre>RandomForestRegressor()</pre></div></div></div></div></div></div></div>"
            ]
          },
          "metadata": {},
          "execution_count": 19
        }
      ],
      "source": [
        "pipe"
      ]
    },
    {
      "cell_type": "code",
      "execution_count": 20,
      "metadata": {
        "colab": {
          "base_uri": "https://localhost:8080/",
          "height": 227
        },
        "id": "SsHcmlwwExKm",
        "outputId": "0cc05fa3-afbb-49d5-aa32-86df3afc8a3e"
      },
      "outputs": [
        {
          "output_type": "execute_result",
          "data": {
            "text/plain": [
              "Pipeline(steps=[('preprocessor',\n",
              "                 ColumnTransformer(transformers=[('categorical',\n",
              "                                                  Pipeline(steps=[('imputation_constant',\n",
              "                                                                   SimpleImputer(fill_value='missing',\n",
              "                                                                                 strategy='constant')),\n",
              "                                                                  ('onehot',\n",
              "                                                                   OneHotEncoder(handle_unknown='ignore'))]),\n",
              "                                                  ['sex', 'smoker', 'day',\n",
              "                                                   'time']),\n",
              "                                                 ('numerical',\n",
              "                                                  Pipeline(steps=[('imputation_mean',\n",
              "                                                                   SimpleImputer()),\n",
              "                                                                  ('scaler',\n",
              "                                                                   StandardScaler())]),\n",
              "                                                  ['tip', 'size'])])),\n",
              "                ('regressor', RandomForestRegressor())])"
            ],
            "text/html": [
              "<style>#sk-59a7fb55-f515-45cc-9fa7-5c8cd6c04485 {color: black;background-color: white;}#sk-59a7fb55-f515-45cc-9fa7-5c8cd6c04485 pre{padding: 0;}#sk-59a7fb55-f515-45cc-9fa7-5c8cd6c04485 div.sk-toggleable {background-color: white;}#sk-59a7fb55-f515-45cc-9fa7-5c8cd6c04485 label.sk-toggleable__label {cursor: pointer;display: block;width: 100%;margin-bottom: 0;padding: 0.3em;box-sizing: border-box;text-align: center;}#sk-59a7fb55-f515-45cc-9fa7-5c8cd6c04485 label.sk-toggleable__label-arrow:before {content: \"▸\";float: left;margin-right: 0.25em;color: #696969;}#sk-59a7fb55-f515-45cc-9fa7-5c8cd6c04485 label.sk-toggleable__label-arrow:hover:before {color: black;}#sk-59a7fb55-f515-45cc-9fa7-5c8cd6c04485 div.sk-estimator:hover label.sk-toggleable__label-arrow:before {color: black;}#sk-59a7fb55-f515-45cc-9fa7-5c8cd6c04485 div.sk-toggleable__content {max-height: 0;max-width: 0;overflow: hidden;text-align: left;background-color: #f0f8ff;}#sk-59a7fb55-f515-45cc-9fa7-5c8cd6c04485 div.sk-toggleable__content pre {margin: 0.2em;color: black;border-radius: 0.25em;background-color: #f0f8ff;}#sk-59a7fb55-f515-45cc-9fa7-5c8cd6c04485 input.sk-toggleable__control:checked~div.sk-toggleable__content {max-height: 200px;max-width: 100%;overflow: auto;}#sk-59a7fb55-f515-45cc-9fa7-5c8cd6c04485 input.sk-toggleable__control:checked~label.sk-toggleable__label-arrow:before {content: \"▾\";}#sk-59a7fb55-f515-45cc-9fa7-5c8cd6c04485 div.sk-estimator input.sk-toggleable__control:checked~label.sk-toggleable__label {background-color: #d4ebff;}#sk-59a7fb55-f515-45cc-9fa7-5c8cd6c04485 div.sk-label input.sk-toggleable__control:checked~label.sk-toggleable__label {background-color: #d4ebff;}#sk-59a7fb55-f515-45cc-9fa7-5c8cd6c04485 input.sk-hidden--visually {border: 0;clip: rect(1px 1px 1px 1px);clip: rect(1px, 1px, 1px, 1px);height: 1px;margin: -1px;overflow: hidden;padding: 0;position: absolute;width: 1px;}#sk-59a7fb55-f515-45cc-9fa7-5c8cd6c04485 div.sk-estimator {font-family: monospace;background-color: #f0f8ff;border: 1px dotted black;border-radius: 0.25em;box-sizing: border-box;margin-bottom: 0.5em;}#sk-59a7fb55-f515-45cc-9fa7-5c8cd6c04485 div.sk-estimator:hover {background-color: #d4ebff;}#sk-59a7fb55-f515-45cc-9fa7-5c8cd6c04485 div.sk-parallel-item::after {content: \"\";width: 100%;border-bottom: 1px solid gray;flex-grow: 1;}#sk-59a7fb55-f515-45cc-9fa7-5c8cd6c04485 div.sk-label:hover label.sk-toggleable__label {background-color: #d4ebff;}#sk-59a7fb55-f515-45cc-9fa7-5c8cd6c04485 div.sk-serial::before {content: \"\";position: absolute;border-left: 1px solid gray;box-sizing: border-box;top: 2em;bottom: 0;left: 50%;}#sk-59a7fb55-f515-45cc-9fa7-5c8cd6c04485 div.sk-serial {display: flex;flex-direction: column;align-items: center;background-color: white;padding-right: 0.2em;padding-left: 0.2em;}#sk-59a7fb55-f515-45cc-9fa7-5c8cd6c04485 div.sk-item {z-index: 1;}#sk-59a7fb55-f515-45cc-9fa7-5c8cd6c04485 div.sk-parallel {display: flex;align-items: stretch;justify-content: center;background-color: white;}#sk-59a7fb55-f515-45cc-9fa7-5c8cd6c04485 div.sk-parallel::before {content: \"\";position: absolute;border-left: 1px solid gray;box-sizing: border-box;top: 2em;bottom: 0;left: 50%;}#sk-59a7fb55-f515-45cc-9fa7-5c8cd6c04485 div.sk-parallel-item {display: flex;flex-direction: column;position: relative;background-color: white;}#sk-59a7fb55-f515-45cc-9fa7-5c8cd6c04485 div.sk-parallel-item:first-child::after {align-self: flex-end;width: 50%;}#sk-59a7fb55-f515-45cc-9fa7-5c8cd6c04485 div.sk-parallel-item:last-child::after {align-self: flex-start;width: 50%;}#sk-59a7fb55-f515-45cc-9fa7-5c8cd6c04485 div.sk-parallel-item:only-child::after {width: 0;}#sk-59a7fb55-f515-45cc-9fa7-5c8cd6c04485 div.sk-dashed-wrapped {border: 1px dashed gray;margin: 0 0.4em 0.5em 0.4em;box-sizing: border-box;padding-bottom: 0.4em;background-color: white;position: relative;}#sk-59a7fb55-f515-45cc-9fa7-5c8cd6c04485 div.sk-label label {font-family: monospace;font-weight: bold;background-color: white;display: inline-block;line-height: 1.2em;}#sk-59a7fb55-f515-45cc-9fa7-5c8cd6c04485 div.sk-label-container {position: relative;z-index: 2;text-align: center;}#sk-59a7fb55-f515-45cc-9fa7-5c8cd6c04485 div.sk-container {/* jupyter's `normalize.less` sets `[hidden] { display: none; }` but bootstrap.min.css set `[hidden] { display: none !important; }` so we also need the `!important` here to be able to override the default hidden behavior on the sphinx rendered scikit-learn.org. See: https://github.com/scikit-learn/scikit-learn/issues/21755 */display: inline-block !important;position: relative;}#sk-59a7fb55-f515-45cc-9fa7-5c8cd6c04485 div.sk-text-repr-fallback {display: none;}</style><div id=\"sk-59a7fb55-f515-45cc-9fa7-5c8cd6c04485\" class=\"sk-top-container\"><div class=\"sk-text-repr-fallback\"><pre>Pipeline(steps=[(&#x27;preprocessor&#x27;,\n",
              "                 ColumnTransformer(transformers=[(&#x27;categorical&#x27;,\n",
              "                                                  Pipeline(steps=[(&#x27;imputation_constant&#x27;,\n",
              "                                                                   SimpleImputer(fill_value=&#x27;missing&#x27;,\n",
              "                                                                                 strategy=&#x27;constant&#x27;)),\n",
              "                                                                  (&#x27;onehot&#x27;,\n",
              "                                                                   OneHotEncoder(handle_unknown=&#x27;ignore&#x27;))]),\n",
              "                                                  [&#x27;sex&#x27;, &#x27;smoker&#x27;, &#x27;day&#x27;,\n",
              "                                                   &#x27;time&#x27;]),\n",
              "                                                 (&#x27;numerical&#x27;,\n",
              "                                                  Pipeline(steps=[(&#x27;imputation_mean&#x27;,\n",
              "                                                                   SimpleImputer()),\n",
              "                                                                  (&#x27;scaler&#x27;,\n",
              "                                                                   StandardScaler())]),\n",
              "                                                  [&#x27;tip&#x27;, &#x27;size&#x27;])])),\n",
              "                (&#x27;regressor&#x27;, RandomForestRegressor())])</pre><b>Please rerun this cell to show the HTML repr or trust the notebook.</b></div><div class=\"sk-container\" hidden><div class=\"sk-item sk-dashed-wrapped\"><div class=\"sk-label-container\"><div class=\"sk-label sk-toggleable\"><input class=\"sk-toggleable__control sk-hidden--visually\" id=\"95b83242-19d1-4db3-9902-99fc31447c4f\" type=\"checkbox\" ><label for=\"95b83242-19d1-4db3-9902-99fc31447c4f\" class=\"sk-toggleable__label sk-toggleable__label-arrow\">Pipeline</label><div class=\"sk-toggleable__content\"><pre>Pipeline(steps=[(&#x27;preprocessor&#x27;,\n",
              "                 ColumnTransformer(transformers=[(&#x27;categorical&#x27;,\n",
              "                                                  Pipeline(steps=[(&#x27;imputation_constant&#x27;,\n",
              "                                                                   SimpleImputer(fill_value=&#x27;missing&#x27;,\n",
              "                                                                                 strategy=&#x27;constant&#x27;)),\n",
              "                                                                  (&#x27;onehot&#x27;,\n",
              "                                                                   OneHotEncoder(handle_unknown=&#x27;ignore&#x27;))]),\n",
              "                                                  [&#x27;sex&#x27;, &#x27;smoker&#x27;, &#x27;day&#x27;,\n",
              "                                                   &#x27;time&#x27;]),\n",
              "                                                 (&#x27;numerical&#x27;,\n",
              "                                                  Pipeline(steps=[(&#x27;imputation_mean&#x27;,\n",
              "                                                                   SimpleImputer()),\n",
              "                                                                  (&#x27;scaler&#x27;,\n",
              "                                                                   StandardScaler())]),\n",
              "                                                  [&#x27;tip&#x27;, &#x27;size&#x27;])])),\n",
              "                (&#x27;regressor&#x27;, RandomForestRegressor())])</pre></div></div></div><div class=\"sk-serial\"><div class=\"sk-item sk-dashed-wrapped\"><div class=\"sk-label-container\"><div class=\"sk-label sk-toggleable\"><input class=\"sk-toggleable__control sk-hidden--visually\" id=\"a7944e4b-1ef8-455c-970a-22da7adc0293\" type=\"checkbox\" ><label for=\"a7944e4b-1ef8-455c-970a-22da7adc0293\" class=\"sk-toggleable__label sk-toggleable__label-arrow\">preprocessor: ColumnTransformer</label><div class=\"sk-toggleable__content\"><pre>ColumnTransformer(transformers=[(&#x27;categorical&#x27;,\n",
              "                                 Pipeline(steps=[(&#x27;imputation_constant&#x27;,\n",
              "                                                  SimpleImputer(fill_value=&#x27;missing&#x27;,\n",
              "                                                                strategy=&#x27;constant&#x27;)),\n",
              "                                                 (&#x27;onehot&#x27;,\n",
              "                                                  OneHotEncoder(handle_unknown=&#x27;ignore&#x27;))]),\n",
              "                                 [&#x27;sex&#x27;, &#x27;smoker&#x27;, &#x27;day&#x27;, &#x27;time&#x27;]),\n",
              "                                (&#x27;numerical&#x27;,\n",
              "                                 Pipeline(steps=[(&#x27;imputation_mean&#x27;,\n",
              "                                                  SimpleImputer()),\n",
              "                                                 (&#x27;scaler&#x27;, StandardScaler())]),\n",
              "                                 [&#x27;tip&#x27;, &#x27;size&#x27;])])</pre></div></div></div><div class=\"sk-parallel\"><div class=\"sk-parallel-item\"><div class=\"sk-item\"><div class=\"sk-label-container\"><div class=\"sk-label sk-toggleable\"><input class=\"sk-toggleable__control sk-hidden--visually\" id=\"15eccc23-3f28-4260-bdf1-ddd721575a78\" type=\"checkbox\" ><label for=\"15eccc23-3f28-4260-bdf1-ddd721575a78\" class=\"sk-toggleable__label sk-toggleable__label-arrow\">categorical</label><div class=\"sk-toggleable__content\"><pre>[&#x27;sex&#x27;, &#x27;smoker&#x27;, &#x27;day&#x27;, &#x27;time&#x27;]</pre></div></div></div><div class=\"sk-serial\"><div class=\"sk-item\"><div class=\"sk-serial\"><div class=\"sk-item\"><div class=\"sk-estimator sk-toggleable\"><input class=\"sk-toggleable__control sk-hidden--visually\" id=\"38f1497d-d581-4d6b-ac8d-59bf19ad4fbb\" type=\"checkbox\" ><label for=\"38f1497d-d581-4d6b-ac8d-59bf19ad4fbb\" class=\"sk-toggleable__label sk-toggleable__label-arrow\">SimpleImputer</label><div class=\"sk-toggleable__content\"><pre>SimpleImputer(fill_value=&#x27;missing&#x27;, strategy=&#x27;constant&#x27;)</pre></div></div></div><div class=\"sk-item\"><div class=\"sk-estimator sk-toggleable\"><input class=\"sk-toggleable__control sk-hidden--visually\" id=\"07b0db62-1f5c-48d8-a6ec-4e5a6655eddd\" type=\"checkbox\" ><label for=\"07b0db62-1f5c-48d8-a6ec-4e5a6655eddd\" class=\"sk-toggleable__label sk-toggleable__label-arrow\">OneHotEncoder</label><div class=\"sk-toggleable__content\"><pre>OneHotEncoder(handle_unknown=&#x27;ignore&#x27;)</pre></div></div></div></div></div></div></div></div><div class=\"sk-parallel-item\"><div class=\"sk-item\"><div class=\"sk-label-container\"><div class=\"sk-label sk-toggleable\"><input class=\"sk-toggleable__control sk-hidden--visually\" id=\"ac327917-3786-447e-94bb-c3ec1233beb3\" type=\"checkbox\" ><label for=\"ac327917-3786-447e-94bb-c3ec1233beb3\" class=\"sk-toggleable__label sk-toggleable__label-arrow\">numerical</label><div class=\"sk-toggleable__content\"><pre>[&#x27;tip&#x27;, &#x27;size&#x27;]</pre></div></div></div><div class=\"sk-serial\"><div class=\"sk-item\"><div class=\"sk-serial\"><div class=\"sk-item\"><div class=\"sk-estimator sk-toggleable\"><input class=\"sk-toggleable__control sk-hidden--visually\" id=\"7fc7707b-828c-4d88-81eb-48a65bc79f5b\" type=\"checkbox\" ><label for=\"7fc7707b-828c-4d88-81eb-48a65bc79f5b\" class=\"sk-toggleable__label sk-toggleable__label-arrow\">SimpleImputer</label><div class=\"sk-toggleable__content\"><pre>SimpleImputer()</pre></div></div></div><div class=\"sk-item\"><div class=\"sk-estimator sk-toggleable\"><input class=\"sk-toggleable__control sk-hidden--visually\" id=\"181c73b6-a986-4b43-813f-30665d828611\" type=\"checkbox\" ><label for=\"181c73b6-a986-4b43-813f-30665d828611\" class=\"sk-toggleable__label sk-toggleable__label-arrow\">StandardScaler</label><div class=\"sk-toggleable__content\"><pre>StandardScaler()</pre></div></div></div></div></div></div></div></div></div></div><div class=\"sk-item\"><div class=\"sk-estimator sk-toggleable\"><input class=\"sk-toggleable__control sk-hidden--visually\" id=\"af7e8db8-a1fb-485d-b283-b738ef0cd3a2\" type=\"checkbox\" ><label for=\"af7e8db8-a1fb-485d-b283-b738ef0cd3a2\" class=\"sk-toggleable__label sk-toggleable__label-arrow\">RandomForestRegressor</label><div class=\"sk-toggleable__content\"><pre>RandomForestRegressor()</pre></div></div></div></div></div></div></div>"
            ]
          },
          "metadata": {},
          "execution_count": 20
        }
      ],
      "source": [
        "pipe.fit(X_train,y_train)"
      ]
    },
    {
      "cell_type": "code",
      "execution_count": 21,
      "metadata": {
        "colab": {
          "base_uri": "https://localhost:8080/"
        },
        "id": "wqKDCp7WExKn",
        "outputId": "022a14ad-b0af-4f29-979a-c192ab071632"
      },
      "outputs": [
        {
          "output_type": "execute_result",
          "data": {
            "text/plain": [
              "array([12.0876    ,  6.4253    , 17.5531    , 12.8388    , 19.5128    ,\n",
              "       19.77123333, 18.56355   , 19.03335   , 26.78125833, 16.49377381,\n",
              "       40.1381    , 20.02892   , 41.7549    , 11.80903333, 15.7223    ,\n",
              "       11.06113333, 10.47965333, 21.67282   , 29.0696    , 20.631075  ,\n",
              "       14.40357048, 13.8256    , 32.3702    , 26.6349    , 24.96228667,\n",
              "       13.8256    , 18.03964   , 19.90042   , 29.2419    , 30.9844    ,\n",
              "       14.90473667, 21.83233333, 15.16403333, 12.89863667, 10.9867    ,\n",
              "       30.0964    , 12.6516477 , 18.90096   , 21.8559    , 28.7311    ,\n",
              "       16.801     , 20.0977    , 10.9983    , 24.6132    , 15.88863333,\n",
              "       20.92531905, 22.779175  , 21.66651905, 11.62104667])"
            ]
          },
          "metadata": {},
          "execution_count": 21
        }
      ],
      "source": [
        "pipe.predict(X_test)"
      ]
    },
    {
      "cell_type": "code",
      "source": [
        "import warnings\n",
        "warnings.filterwarnings(\"ignore\")"
      ],
      "metadata": {
        "id": "dKP6NKyILxQD"
      },
      "execution_count": 22,
      "outputs": []
    },
    {
      "cell_type": "code",
      "source": [
        "## Hypermeter Tuning\n",
        "param_grid = {\n",
        "    \"regressor__n_estimators\": [200, 500],\n",
        "    \"regressor__max_features\": [\"auto\", \"sqrt\", \"log2\"],\n",
        "    \"regressor__max_depth\": [4, 5, 6, 7, 8]\n",
        "}"
      ],
      "metadata": {
        "id": "264xuWHrMPCW"
      },
      "execution_count": 23,
      "outputs": []
    },
    {
      "cell_type": "code",
      "source": [
        "grid_search = GridSearchCV(pipe, param_grid = param_grid, n_jobs=1)"
      ],
      "metadata": {
        "id": "cOR6k_fkN5un"
      },
      "execution_count": 24,
      "outputs": []
    },
    {
      "cell_type": "code",
      "source": [
        "grid_search.fit(X_train, y_train)"
      ],
      "metadata": {
        "colab": {
          "base_uri": "https://localhost:8080/",
          "height": 228
        },
        "id": "zOVI0qRYOU8x",
        "outputId": "e4eb46db-2204-462f-a3e9-de75e3da085c"
      },
      "execution_count": 25,
      "outputs": [
        {
          "output_type": "execute_result",
          "data": {
            "text/plain": [
              "GridSearchCV(estimator=Pipeline(steps=[('preprocessor',\n",
              "                                        ColumnTransformer(transformers=[('categorical',\n",
              "                                                                         Pipeline(steps=[('imputation_constant',\n",
              "                                                                                          SimpleImputer(fill_value='missing',\n",
              "                                                                                                        strategy='constant')),\n",
              "                                                                                         ('onehot',\n",
              "                                                                                          OneHotEncoder(handle_unknown='ignore'))]),\n",
              "                                                                         ['sex',\n",
              "                                                                          'smoker',\n",
              "                                                                          'day',\n",
              "                                                                          'time']),\n",
              "                                                                        ('numerical',\n",
              "                                                                         Pipeline(steps=[('imputation_mean',\n",
              "                                                                                          SimpleImputer()),\n",
              "                                                                                         ('scaler',\n",
              "                                                                                          StandardScaler())]),\n",
              "                                                                         ['tip',\n",
              "                                                                          'size'])])),\n",
              "                                       ('regressor', RandomForestRegressor())]),\n",
              "             n_jobs=1,\n",
              "             param_grid={'regressor__max_depth': [4, 5, 6, 7, 8],\n",
              "                         'regressor__max_features': ['auto', 'sqrt', 'log2'],\n",
              "                         'regressor__n_estimators': [200, 500]})"
            ],
            "text/html": [
              "<style>#sk-a651a452-854d-4adc-a3d4-e984b8f58a7a {color: black;background-color: white;}#sk-a651a452-854d-4adc-a3d4-e984b8f58a7a pre{padding: 0;}#sk-a651a452-854d-4adc-a3d4-e984b8f58a7a div.sk-toggleable {background-color: white;}#sk-a651a452-854d-4adc-a3d4-e984b8f58a7a label.sk-toggleable__label {cursor: pointer;display: block;width: 100%;margin-bottom: 0;padding: 0.3em;box-sizing: border-box;text-align: center;}#sk-a651a452-854d-4adc-a3d4-e984b8f58a7a label.sk-toggleable__label-arrow:before {content: \"▸\";float: left;margin-right: 0.25em;color: #696969;}#sk-a651a452-854d-4adc-a3d4-e984b8f58a7a label.sk-toggleable__label-arrow:hover:before {color: black;}#sk-a651a452-854d-4adc-a3d4-e984b8f58a7a div.sk-estimator:hover label.sk-toggleable__label-arrow:before {color: black;}#sk-a651a452-854d-4adc-a3d4-e984b8f58a7a div.sk-toggleable__content {max-height: 0;max-width: 0;overflow: hidden;text-align: left;background-color: #f0f8ff;}#sk-a651a452-854d-4adc-a3d4-e984b8f58a7a div.sk-toggleable__content pre {margin: 0.2em;color: black;border-radius: 0.25em;background-color: #f0f8ff;}#sk-a651a452-854d-4adc-a3d4-e984b8f58a7a input.sk-toggleable__control:checked~div.sk-toggleable__content {max-height: 200px;max-width: 100%;overflow: auto;}#sk-a651a452-854d-4adc-a3d4-e984b8f58a7a input.sk-toggleable__control:checked~label.sk-toggleable__label-arrow:before {content: \"▾\";}#sk-a651a452-854d-4adc-a3d4-e984b8f58a7a div.sk-estimator input.sk-toggleable__control:checked~label.sk-toggleable__label {background-color: #d4ebff;}#sk-a651a452-854d-4adc-a3d4-e984b8f58a7a div.sk-label input.sk-toggleable__control:checked~label.sk-toggleable__label {background-color: #d4ebff;}#sk-a651a452-854d-4adc-a3d4-e984b8f58a7a input.sk-hidden--visually {border: 0;clip: rect(1px 1px 1px 1px);clip: rect(1px, 1px, 1px, 1px);height: 1px;margin: -1px;overflow: hidden;padding: 0;position: absolute;width: 1px;}#sk-a651a452-854d-4adc-a3d4-e984b8f58a7a div.sk-estimator {font-family: monospace;background-color: #f0f8ff;border: 1px dotted black;border-radius: 0.25em;box-sizing: border-box;margin-bottom: 0.5em;}#sk-a651a452-854d-4adc-a3d4-e984b8f58a7a div.sk-estimator:hover {background-color: #d4ebff;}#sk-a651a452-854d-4adc-a3d4-e984b8f58a7a div.sk-parallel-item::after {content: \"\";width: 100%;border-bottom: 1px solid gray;flex-grow: 1;}#sk-a651a452-854d-4adc-a3d4-e984b8f58a7a div.sk-label:hover label.sk-toggleable__label {background-color: #d4ebff;}#sk-a651a452-854d-4adc-a3d4-e984b8f58a7a div.sk-serial::before {content: \"\";position: absolute;border-left: 1px solid gray;box-sizing: border-box;top: 2em;bottom: 0;left: 50%;}#sk-a651a452-854d-4adc-a3d4-e984b8f58a7a div.sk-serial {display: flex;flex-direction: column;align-items: center;background-color: white;padding-right: 0.2em;padding-left: 0.2em;}#sk-a651a452-854d-4adc-a3d4-e984b8f58a7a div.sk-item {z-index: 1;}#sk-a651a452-854d-4adc-a3d4-e984b8f58a7a div.sk-parallel {display: flex;align-items: stretch;justify-content: center;background-color: white;}#sk-a651a452-854d-4adc-a3d4-e984b8f58a7a div.sk-parallel::before {content: \"\";position: absolute;border-left: 1px solid gray;box-sizing: border-box;top: 2em;bottom: 0;left: 50%;}#sk-a651a452-854d-4adc-a3d4-e984b8f58a7a div.sk-parallel-item {display: flex;flex-direction: column;position: relative;background-color: white;}#sk-a651a452-854d-4adc-a3d4-e984b8f58a7a div.sk-parallel-item:first-child::after {align-self: flex-end;width: 50%;}#sk-a651a452-854d-4adc-a3d4-e984b8f58a7a div.sk-parallel-item:last-child::after {align-self: flex-start;width: 50%;}#sk-a651a452-854d-4adc-a3d4-e984b8f58a7a div.sk-parallel-item:only-child::after {width: 0;}#sk-a651a452-854d-4adc-a3d4-e984b8f58a7a div.sk-dashed-wrapped {border: 1px dashed gray;margin: 0 0.4em 0.5em 0.4em;box-sizing: border-box;padding-bottom: 0.4em;background-color: white;position: relative;}#sk-a651a452-854d-4adc-a3d4-e984b8f58a7a div.sk-label label {font-family: monospace;font-weight: bold;background-color: white;display: inline-block;line-height: 1.2em;}#sk-a651a452-854d-4adc-a3d4-e984b8f58a7a div.sk-label-container {position: relative;z-index: 2;text-align: center;}#sk-a651a452-854d-4adc-a3d4-e984b8f58a7a div.sk-container {/* jupyter's `normalize.less` sets `[hidden] { display: none; }` but bootstrap.min.css set `[hidden] { display: none !important; }` so we also need the `!important` here to be able to override the default hidden behavior on the sphinx rendered scikit-learn.org. See: https://github.com/scikit-learn/scikit-learn/issues/21755 */display: inline-block !important;position: relative;}#sk-a651a452-854d-4adc-a3d4-e984b8f58a7a div.sk-text-repr-fallback {display: none;}</style><div id=\"sk-a651a452-854d-4adc-a3d4-e984b8f58a7a\" class=\"sk-top-container\"><div class=\"sk-text-repr-fallback\"><pre>GridSearchCV(estimator=Pipeline(steps=[(&#x27;preprocessor&#x27;,\n",
              "                                        ColumnTransformer(transformers=[(&#x27;categorical&#x27;,\n",
              "                                                                         Pipeline(steps=[(&#x27;imputation_constant&#x27;,\n",
              "                                                                                          SimpleImputer(fill_value=&#x27;missing&#x27;,\n",
              "                                                                                                        strategy=&#x27;constant&#x27;)),\n",
              "                                                                                         (&#x27;onehot&#x27;,\n",
              "                                                                                          OneHotEncoder(handle_unknown=&#x27;ignore&#x27;))]),\n",
              "                                                                         [&#x27;sex&#x27;,\n",
              "                                                                          &#x27;smoker&#x27;,\n",
              "                                                                          &#x27;day&#x27;,\n",
              "                                                                          &#x27;time&#x27;]),\n",
              "                                                                        (&#x27;numerical&#x27;,\n",
              "                                                                         Pipeline(steps=[(&#x27;imputation_mean&#x27;,\n",
              "                                                                                          SimpleImputer()),\n",
              "                                                                                         (&#x27;scaler&#x27;,\n",
              "                                                                                          StandardScaler())]),\n",
              "                                                                         [&#x27;tip&#x27;,\n",
              "                                                                          &#x27;size&#x27;])])),\n",
              "                                       (&#x27;regressor&#x27;, RandomForestRegressor())]),\n",
              "             n_jobs=1,\n",
              "             param_grid={&#x27;regressor__max_depth&#x27;: [4, 5, 6, 7, 8],\n",
              "                         &#x27;regressor__max_features&#x27;: [&#x27;auto&#x27;, &#x27;sqrt&#x27;, &#x27;log2&#x27;],\n",
              "                         &#x27;regressor__n_estimators&#x27;: [200, 500]})</pre><b>Please rerun this cell to show the HTML repr or trust the notebook.</b></div><div class=\"sk-container\" hidden><div class=\"sk-item sk-dashed-wrapped\"><div class=\"sk-label-container\"><div class=\"sk-label sk-toggleable\"><input class=\"sk-toggleable__control sk-hidden--visually\" id=\"b5e428dd-29ca-43f3-b593-b38dce7c903b\" type=\"checkbox\" ><label for=\"b5e428dd-29ca-43f3-b593-b38dce7c903b\" class=\"sk-toggleable__label sk-toggleable__label-arrow\">GridSearchCV</label><div class=\"sk-toggleable__content\"><pre>GridSearchCV(estimator=Pipeline(steps=[(&#x27;preprocessor&#x27;,\n",
              "                                        ColumnTransformer(transformers=[(&#x27;categorical&#x27;,\n",
              "                                                                         Pipeline(steps=[(&#x27;imputation_constant&#x27;,\n",
              "                                                                                          SimpleImputer(fill_value=&#x27;missing&#x27;,\n",
              "                                                                                                        strategy=&#x27;constant&#x27;)),\n",
              "                                                                                         (&#x27;onehot&#x27;,\n",
              "                                                                                          OneHotEncoder(handle_unknown=&#x27;ignore&#x27;))]),\n",
              "                                                                         [&#x27;sex&#x27;,\n",
              "                                                                          &#x27;smoker&#x27;,\n",
              "                                                                          &#x27;day&#x27;,\n",
              "                                                                          &#x27;time&#x27;]),\n",
              "                                                                        (&#x27;numerical&#x27;,\n",
              "                                                                         Pipeline(steps=[(&#x27;imputation_mean&#x27;,\n",
              "                                                                                          SimpleImputer()),\n",
              "                                                                                         (&#x27;scaler&#x27;,\n",
              "                                                                                          StandardScaler())]),\n",
              "                                                                         [&#x27;tip&#x27;,\n",
              "                                                                          &#x27;size&#x27;])])),\n",
              "                                       (&#x27;regressor&#x27;, RandomForestRegressor())]),\n",
              "             n_jobs=1,\n",
              "             param_grid={&#x27;regressor__max_depth&#x27;: [4, 5, 6, 7, 8],\n",
              "                         &#x27;regressor__max_features&#x27;: [&#x27;auto&#x27;, &#x27;sqrt&#x27;, &#x27;log2&#x27;],\n",
              "                         &#x27;regressor__n_estimators&#x27;: [200, 500]})</pre></div></div></div><div class=\"sk-parallel\"><div class=\"sk-parallel-item\"><div class=\"sk-item\"><div class=\"sk-serial\"><div class=\"sk-item\"><div class=\"sk-serial\"><div class=\"sk-item sk-dashed-wrapped\"><div class=\"sk-label-container\"><div class=\"sk-label sk-toggleable\"><input class=\"sk-toggleable__control sk-hidden--visually\" id=\"a799f71a-0cc7-4836-83ef-73426375a301\" type=\"checkbox\" ><label for=\"a799f71a-0cc7-4836-83ef-73426375a301\" class=\"sk-toggleable__label sk-toggleable__label-arrow\">preprocessor: ColumnTransformer</label><div class=\"sk-toggleable__content\"><pre>ColumnTransformer(transformers=[(&#x27;categorical&#x27;,\n",
              "                                 Pipeline(steps=[(&#x27;imputation_constant&#x27;,\n",
              "                                                  SimpleImputer(fill_value=&#x27;missing&#x27;,\n",
              "                                                                strategy=&#x27;constant&#x27;)),\n",
              "                                                 (&#x27;onehot&#x27;,\n",
              "                                                  OneHotEncoder(handle_unknown=&#x27;ignore&#x27;))]),\n",
              "                                 [&#x27;sex&#x27;, &#x27;smoker&#x27;, &#x27;day&#x27;, &#x27;time&#x27;]),\n",
              "                                (&#x27;numerical&#x27;,\n",
              "                                 Pipeline(steps=[(&#x27;imputation_mean&#x27;,\n",
              "                                                  SimpleImputer()),\n",
              "                                                 (&#x27;scaler&#x27;, StandardScaler())]),\n",
              "                                 [&#x27;tip&#x27;, &#x27;size&#x27;])])</pre></div></div></div><div class=\"sk-parallel\"><div class=\"sk-parallel-item\"><div class=\"sk-item\"><div class=\"sk-label-container\"><div class=\"sk-label sk-toggleable\"><input class=\"sk-toggleable__control sk-hidden--visually\" id=\"3e942498-cf9f-4e9d-bdde-7f5ca8866a6c\" type=\"checkbox\" ><label for=\"3e942498-cf9f-4e9d-bdde-7f5ca8866a6c\" class=\"sk-toggleable__label sk-toggleable__label-arrow\">categorical</label><div class=\"sk-toggleable__content\"><pre>[&#x27;sex&#x27;, &#x27;smoker&#x27;, &#x27;day&#x27;, &#x27;time&#x27;]</pre></div></div></div><div class=\"sk-serial\"><div class=\"sk-item\"><div class=\"sk-serial\"><div class=\"sk-item\"><div class=\"sk-estimator sk-toggleable\"><input class=\"sk-toggleable__control sk-hidden--visually\" id=\"af5f1820-0ea2-4adb-98a6-84649ea9163e\" type=\"checkbox\" ><label for=\"af5f1820-0ea2-4adb-98a6-84649ea9163e\" class=\"sk-toggleable__label sk-toggleable__label-arrow\">SimpleImputer</label><div class=\"sk-toggleable__content\"><pre>SimpleImputer(fill_value=&#x27;missing&#x27;, strategy=&#x27;constant&#x27;)</pre></div></div></div><div class=\"sk-item\"><div class=\"sk-estimator sk-toggleable\"><input class=\"sk-toggleable__control sk-hidden--visually\" id=\"1b2c411b-d917-429d-8848-90ee38cbbc8a\" type=\"checkbox\" ><label for=\"1b2c411b-d917-429d-8848-90ee38cbbc8a\" class=\"sk-toggleable__label sk-toggleable__label-arrow\">OneHotEncoder</label><div class=\"sk-toggleable__content\"><pre>OneHotEncoder(handle_unknown=&#x27;ignore&#x27;)</pre></div></div></div></div></div></div></div></div><div class=\"sk-parallel-item\"><div class=\"sk-item\"><div class=\"sk-label-container\"><div class=\"sk-label sk-toggleable\"><input class=\"sk-toggleable__control sk-hidden--visually\" id=\"79b54616-dc7c-4b70-82a1-1c0facdaabdc\" type=\"checkbox\" ><label for=\"79b54616-dc7c-4b70-82a1-1c0facdaabdc\" class=\"sk-toggleable__label sk-toggleable__label-arrow\">numerical</label><div class=\"sk-toggleable__content\"><pre>[&#x27;tip&#x27;, &#x27;size&#x27;]</pre></div></div></div><div class=\"sk-serial\"><div class=\"sk-item\"><div class=\"sk-serial\"><div class=\"sk-item\"><div class=\"sk-estimator sk-toggleable\"><input class=\"sk-toggleable__control sk-hidden--visually\" id=\"184af85c-7e91-4a5e-9eb0-775e770a2c94\" type=\"checkbox\" ><label for=\"184af85c-7e91-4a5e-9eb0-775e770a2c94\" class=\"sk-toggleable__label sk-toggleable__label-arrow\">SimpleImputer</label><div class=\"sk-toggleable__content\"><pre>SimpleImputer()</pre></div></div></div><div class=\"sk-item\"><div class=\"sk-estimator sk-toggleable\"><input class=\"sk-toggleable__control sk-hidden--visually\" id=\"9a6cecc1-7c35-4367-92fe-3335588b2f89\" type=\"checkbox\" ><label for=\"9a6cecc1-7c35-4367-92fe-3335588b2f89\" class=\"sk-toggleable__label sk-toggleable__label-arrow\">StandardScaler</label><div class=\"sk-toggleable__content\"><pre>StandardScaler()</pre></div></div></div></div></div></div></div></div></div></div><div class=\"sk-item\"><div class=\"sk-estimator sk-toggleable\"><input class=\"sk-toggleable__control sk-hidden--visually\" id=\"ace1dca3-f288-4274-a8a8-cd7c01fcf9d5\" type=\"checkbox\" ><label for=\"ace1dca3-f288-4274-a8a8-cd7c01fcf9d5\" class=\"sk-toggleable__label sk-toggleable__label-arrow\">RandomForestRegressor</label><div class=\"sk-toggleable__content\"><pre>RandomForestRegressor()</pre></div></div></div></div></div></div></div></div></div></div></div></div>"
            ]
          },
          "metadata": {},
          "execution_count": 25
        }
      ]
    },
    {
      "cell_type": "code",
      "source": [
        "grid_search.best_params_"
      ],
      "metadata": {
        "colab": {
          "base_uri": "https://localhost:8080/"
        },
        "id": "petW9XBkOkqP",
        "outputId": "82531542-1ef8-4922-e950-20d14bea9de6"
      },
      "execution_count": 26,
      "outputs": [
        {
          "output_type": "execute_result",
          "data": {
            "text/plain": [
              "{'regressor__max_depth': 5,\n",
              " 'regressor__max_features': 'log2',\n",
              " 'regressor__n_estimators': 500}"
            ]
          },
          "metadata": {},
          "execution_count": 26
        }
      ]
    },
    {
      "cell_type": "code",
      "source": [
        "pipe=Pipeline(\n",
        "    [(\"preprocessor\",preprocessor),(\"regressor\",RandomForestRegressor(max_depth = 5, max_features = \"log2\", n_estimators = 500))]\n",
        ")"
      ],
      "metadata": {
        "id": "DxwFr6kwPCys"
      },
      "execution_count": 27,
      "outputs": []
    },
    {
      "cell_type": "code",
      "source": [
        "pipe.fit(X_train,y_train)"
      ],
      "metadata": {
        "colab": {
          "base_uri": "https://localhost:8080/",
          "height": 227
        },
        "id": "OQOJY48QP5R1",
        "outputId": "1366a885-03d1-44ae-ca47-42697b210d66"
      },
      "execution_count": 28,
      "outputs": [
        {
          "output_type": "execute_result",
          "data": {
            "text/plain": [
              "Pipeline(steps=[('preprocessor',\n",
              "                 ColumnTransformer(transformers=[('categorical',\n",
              "                                                  Pipeline(steps=[('imputation_constant',\n",
              "                                                                   SimpleImputer(fill_value='missing',\n",
              "                                                                                 strategy='constant')),\n",
              "                                                                  ('onehot',\n",
              "                                                                   OneHotEncoder(handle_unknown='ignore'))]),\n",
              "                                                  ['sex', 'smoker', 'day',\n",
              "                                                   'time']),\n",
              "                                                 ('numerical',\n",
              "                                                  Pipeline(steps=[('imputation_mean',\n",
              "                                                                   SimpleImputer()),\n",
              "                                                                  ('scaler',\n",
              "                                                                   StandardScaler())]),\n",
              "                                                  ['tip', 'size'])])),\n",
              "                ('regressor',\n",
              "                 RandomForestRegressor(max_depth=5, max_features='log2',\n",
              "                                       n_estimators=500))])"
            ],
            "text/html": [
              "<style>#sk-6c9d08a5-f0b9-4632-b638-0d04cda66fff {color: black;background-color: white;}#sk-6c9d08a5-f0b9-4632-b638-0d04cda66fff pre{padding: 0;}#sk-6c9d08a5-f0b9-4632-b638-0d04cda66fff div.sk-toggleable {background-color: white;}#sk-6c9d08a5-f0b9-4632-b638-0d04cda66fff label.sk-toggleable__label {cursor: pointer;display: block;width: 100%;margin-bottom: 0;padding: 0.3em;box-sizing: border-box;text-align: center;}#sk-6c9d08a5-f0b9-4632-b638-0d04cda66fff label.sk-toggleable__label-arrow:before {content: \"▸\";float: left;margin-right: 0.25em;color: #696969;}#sk-6c9d08a5-f0b9-4632-b638-0d04cda66fff label.sk-toggleable__label-arrow:hover:before {color: black;}#sk-6c9d08a5-f0b9-4632-b638-0d04cda66fff div.sk-estimator:hover label.sk-toggleable__label-arrow:before {color: black;}#sk-6c9d08a5-f0b9-4632-b638-0d04cda66fff div.sk-toggleable__content {max-height: 0;max-width: 0;overflow: hidden;text-align: left;background-color: #f0f8ff;}#sk-6c9d08a5-f0b9-4632-b638-0d04cda66fff div.sk-toggleable__content pre {margin: 0.2em;color: black;border-radius: 0.25em;background-color: #f0f8ff;}#sk-6c9d08a5-f0b9-4632-b638-0d04cda66fff input.sk-toggleable__control:checked~div.sk-toggleable__content {max-height: 200px;max-width: 100%;overflow: auto;}#sk-6c9d08a5-f0b9-4632-b638-0d04cda66fff input.sk-toggleable__control:checked~label.sk-toggleable__label-arrow:before {content: \"▾\";}#sk-6c9d08a5-f0b9-4632-b638-0d04cda66fff div.sk-estimator input.sk-toggleable__control:checked~label.sk-toggleable__label {background-color: #d4ebff;}#sk-6c9d08a5-f0b9-4632-b638-0d04cda66fff div.sk-label input.sk-toggleable__control:checked~label.sk-toggleable__label {background-color: #d4ebff;}#sk-6c9d08a5-f0b9-4632-b638-0d04cda66fff input.sk-hidden--visually {border: 0;clip: rect(1px 1px 1px 1px);clip: rect(1px, 1px, 1px, 1px);height: 1px;margin: -1px;overflow: hidden;padding: 0;position: absolute;width: 1px;}#sk-6c9d08a5-f0b9-4632-b638-0d04cda66fff div.sk-estimator {font-family: monospace;background-color: #f0f8ff;border: 1px dotted black;border-radius: 0.25em;box-sizing: border-box;margin-bottom: 0.5em;}#sk-6c9d08a5-f0b9-4632-b638-0d04cda66fff div.sk-estimator:hover {background-color: #d4ebff;}#sk-6c9d08a5-f0b9-4632-b638-0d04cda66fff div.sk-parallel-item::after {content: \"\";width: 100%;border-bottom: 1px solid gray;flex-grow: 1;}#sk-6c9d08a5-f0b9-4632-b638-0d04cda66fff div.sk-label:hover label.sk-toggleable__label {background-color: #d4ebff;}#sk-6c9d08a5-f0b9-4632-b638-0d04cda66fff div.sk-serial::before {content: \"\";position: absolute;border-left: 1px solid gray;box-sizing: border-box;top: 2em;bottom: 0;left: 50%;}#sk-6c9d08a5-f0b9-4632-b638-0d04cda66fff div.sk-serial {display: flex;flex-direction: column;align-items: center;background-color: white;padding-right: 0.2em;padding-left: 0.2em;}#sk-6c9d08a5-f0b9-4632-b638-0d04cda66fff div.sk-item {z-index: 1;}#sk-6c9d08a5-f0b9-4632-b638-0d04cda66fff div.sk-parallel {display: flex;align-items: stretch;justify-content: center;background-color: white;}#sk-6c9d08a5-f0b9-4632-b638-0d04cda66fff div.sk-parallel::before {content: \"\";position: absolute;border-left: 1px solid gray;box-sizing: border-box;top: 2em;bottom: 0;left: 50%;}#sk-6c9d08a5-f0b9-4632-b638-0d04cda66fff div.sk-parallel-item {display: flex;flex-direction: column;position: relative;background-color: white;}#sk-6c9d08a5-f0b9-4632-b638-0d04cda66fff div.sk-parallel-item:first-child::after {align-self: flex-end;width: 50%;}#sk-6c9d08a5-f0b9-4632-b638-0d04cda66fff div.sk-parallel-item:last-child::after {align-self: flex-start;width: 50%;}#sk-6c9d08a5-f0b9-4632-b638-0d04cda66fff div.sk-parallel-item:only-child::after {width: 0;}#sk-6c9d08a5-f0b9-4632-b638-0d04cda66fff div.sk-dashed-wrapped {border: 1px dashed gray;margin: 0 0.4em 0.5em 0.4em;box-sizing: border-box;padding-bottom: 0.4em;background-color: white;position: relative;}#sk-6c9d08a5-f0b9-4632-b638-0d04cda66fff div.sk-label label {font-family: monospace;font-weight: bold;background-color: white;display: inline-block;line-height: 1.2em;}#sk-6c9d08a5-f0b9-4632-b638-0d04cda66fff div.sk-label-container {position: relative;z-index: 2;text-align: center;}#sk-6c9d08a5-f0b9-4632-b638-0d04cda66fff div.sk-container {/* jupyter's `normalize.less` sets `[hidden] { display: none; }` but bootstrap.min.css set `[hidden] { display: none !important; }` so we also need the `!important` here to be able to override the default hidden behavior on the sphinx rendered scikit-learn.org. See: https://github.com/scikit-learn/scikit-learn/issues/21755 */display: inline-block !important;position: relative;}#sk-6c9d08a5-f0b9-4632-b638-0d04cda66fff div.sk-text-repr-fallback {display: none;}</style><div id=\"sk-6c9d08a5-f0b9-4632-b638-0d04cda66fff\" class=\"sk-top-container\"><div class=\"sk-text-repr-fallback\"><pre>Pipeline(steps=[(&#x27;preprocessor&#x27;,\n",
              "                 ColumnTransformer(transformers=[(&#x27;categorical&#x27;,\n",
              "                                                  Pipeline(steps=[(&#x27;imputation_constant&#x27;,\n",
              "                                                                   SimpleImputer(fill_value=&#x27;missing&#x27;,\n",
              "                                                                                 strategy=&#x27;constant&#x27;)),\n",
              "                                                                  (&#x27;onehot&#x27;,\n",
              "                                                                   OneHotEncoder(handle_unknown=&#x27;ignore&#x27;))]),\n",
              "                                                  [&#x27;sex&#x27;, &#x27;smoker&#x27;, &#x27;day&#x27;,\n",
              "                                                   &#x27;time&#x27;]),\n",
              "                                                 (&#x27;numerical&#x27;,\n",
              "                                                  Pipeline(steps=[(&#x27;imputation_mean&#x27;,\n",
              "                                                                   SimpleImputer()),\n",
              "                                                                  (&#x27;scaler&#x27;,\n",
              "                                                                   StandardScaler())]),\n",
              "                                                  [&#x27;tip&#x27;, &#x27;size&#x27;])])),\n",
              "                (&#x27;regressor&#x27;,\n",
              "                 RandomForestRegressor(max_depth=5, max_features=&#x27;log2&#x27;,\n",
              "                                       n_estimators=500))])</pre><b>Please rerun this cell to show the HTML repr or trust the notebook.</b></div><div class=\"sk-container\" hidden><div class=\"sk-item sk-dashed-wrapped\"><div class=\"sk-label-container\"><div class=\"sk-label sk-toggleable\"><input class=\"sk-toggleable__control sk-hidden--visually\" id=\"ec8e8375-ac02-451e-bb8e-abbc7f4c51f6\" type=\"checkbox\" ><label for=\"ec8e8375-ac02-451e-bb8e-abbc7f4c51f6\" class=\"sk-toggleable__label sk-toggleable__label-arrow\">Pipeline</label><div class=\"sk-toggleable__content\"><pre>Pipeline(steps=[(&#x27;preprocessor&#x27;,\n",
              "                 ColumnTransformer(transformers=[(&#x27;categorical&#x27;,\n",
              "                                                  Pipeline(steps=[(&#x27;imputation_constant&#x27;,\n",
              "                                                                   SimpleImputer(fill_value=&#x27;missing&#x27;,\n",
              "                                                                                 strategy=&#x27;constant&#x27;)),\n",
              "                                                                  (&#x27;onehot&#x27;,\n",
              "                                                                   OneHotEncoder(handle_unknown=&#x27;ignore&#x27;))]),\n",
              "                                                  [&#x27;sex&#x27;, &#x27;smoker&#x27;, &#x27;day&#x27;,\n",
              "                                                   &#x27;time&#x27;]),\n",
              "                                                 (&#x27;numerical&#x27;,\n",
              "                                                  Pipeline(steps=[(&#x27;imputation_mean&#x27;,\n",
              "                                                                   SimpleImputer()),\n",
              "                                                                  (&#x27;scaler&#x27;,\n",
              "                                                                   StandardScaler())]),\n",
              "                                                  [&#x27;tip&#x27;, &#x27;size&#x27;])])),\n",
              "                (&#x27;regressor&#x27;,\n",
              "                 RandomForestRegressor(max_depth=5, max_features=&#x27;log2&#x27;,\n",
              "                                       n_estimators=500))])</pre></div></div></div><div class=\"sk-serial\"><div class=\"sk-item sk-dashed-wrapped\"><div class=\"sk-label-container\"><div class=\"sk-label sk-toggleable\"><input class=\"sk-toggleable__control sk-hidden--visually\" id=\"31102108-c80b-41b3-aaf7-ddf3383f84ed\" type=\"checkbox\" ><label for=\"31102108-c80b-41b3-aaf7-ddf3383f84ed\" class=\"sk-toggleable__label sk-toggleable__label-arrow\">preprocessor: ColumnTransformer</label><div class=\"sk-toggleable__content\"><pre>ColumnTransformer(transformers=[(&#x27;categorical&#x27;,\n",
              "                                 Pipeline(steps=[(&#x27;imputation_constant&#x27;,\n",
              "                                                  SimpleImputer(fill_value=&#x27;missing&#x27;,\n",
              "                                                                strategy=&#x27;constant&#x27;)),\n",
              "                                                 (&#x27;onehot&#x27;,\n",
              "                                                  OneHotEncoder(handle_unknown=&#x27;ignore&#x27;))]),\n",
              "                                 [&#x27;sex&#x27;, &#x27;smoker&#x27;, &#x27;day&#x27;, &#x27;time&#x27;]),\n",
              "                                (&#x27;numerical&#x27;,\n",
              "                                 Pipeline(steps=[(&#x27;imputation_mean&#x27;,\n",
              "                                                  SimpleImputer()),\n",
              "                                                 (&#x27;scaler&#x27;, StandardScaler())]),\n",
              "                                 [&#x27;tip&#x27;, &#x27;size&#x27;])])</pre></div></div></div><div class=\"sk-parallel\"><div class=\"sk-parallel-item\"><div class=\"sk-item\"><div class=\"sk-label-container\"><div class=\"sk-label sk-toggleable\"><input class=\"sk-toggleable__control sk-hidden--visually\" id=\"e1e03e6f-a745-4143-9311-752045d61755\" type=\"checkbox\" ><label for=\"e1e03e6f-a745-4143-9311-752045d61755\" class=\"sk-toggleable__label sk-toggleable__label-arrow\">categorical</label><div class=\"sk-toggleable__content\"><pre>[&#x27;sex&#x27;, &#x27;smoker&#x27;, &#x27;day&#x27;, &#x27;time&#x27;]</pre></div></div></div><div class=\"sk-serial\"><div class=\"sk-item\"><div class=\"sk-serial\"><div class=\"sk-item\"><div class=\"sk-estimator sk-toggleable\"><input class=\"sk-toggleable__control sk-hidden--visually\" id=\"e0c7c7ed-7cd0-4140-a44f-4e8ba847b0ae\" type=\"checkbox\" ><label for=\"e0c7c7ed-7cd0-4140-a44f-4e8ba847b0ae\" class=\"sk-toggleable__label sk-toggleable__label-arrow\">SimpleImputer</label><div class=\"sk-toggleable__content\"><pre>SimpleImputer(fill_value=&#x27;missing&#x27;, strategy=&#x27;constant&#x27;)</pre></div></div></div><div class=\"sk-item\"><div class=\"sk-estimator sk-toggleable\"><input class=\"sk-toggleable__control sk-hidden--visually\" id=\"b7e825a7-d93a-4c08-954f-8f118d914568\" type=\"checkbox\" ><label for=\"b7e825a7-d93a-4c08-954f-8f118d914568\" class=\"sk-toggleable__label sk-toggleable__label-arrow\">OneHotEncoder</label><div class=\"sk-toggleable__content\"><pre>OneHotEncoder(handle_unknown=&#x27;ignore&#x27;)</pre></div></div></div></div></div></div></div></div><div class=\"sk-parallel-item\"><div class=\"sk-item\"><div class=\"sk-label-container\"><div class=\"sk-label sk-toggleable\"><input class=\"sk-toggleable__control sk-hidden--visually\" id=\"aaae41e6-3b32-4d93-ab1d-d151b2af766d\" type=\"checkbox\" ><label for=\"aaae41e6-3b32-4d93-ab1d-d151b2af766d\" class=\"sk-toggleable__label sk-toggleable__label-arrow\">numerical</label><div class=\"sk-toggleable__content\"><pre>[&#x27;tip&#x27;, &#x27;size&#x27;]</pre></div></div></div><div class=\"sk-serial\"><div class=\"sk-item\"><div class=\"sk-serial\"><div class=\"sk-item\"><div class=\"sk-estimator sk-toggleable\"><input class=\"sk-toggleable__control sk-hidden--visually\" id=\"7419ec15-cd28-4283-b4ba-0a4693c2fb05\" type=\"checkbox\" ><label for=\"7419ec15-cd28-4283-b4ba-0a4693c2fb05\" class=\"sk-toggleable__label sk-toggleable__label-arrow\">SimpleImputer</label><div class=\"sk-toggleable__content\"><pre>SimpleImputer()</pre></div></div></div><div class=\"sk-item\"><div class=\"sk-estimator sk-toggleable\"><input class=\"sk-toggleable__control sk-hidden--visually\" id=\"1f378d3d-c700-4387-b65a-dd2d4cf33b43\" type=\"checkbox\" ><label for=\"1f378d3d-c700-4387-b65a-dd2d4cf33b43\" class=\"sk-toggleable__label sk-toggleable__label-arrow\">StandardScaler</label><div class=\"sk-toggleable__content\"><pre>StandardScaler()</pre></div></div></div></div></div></div></div></div></div></div><div class=\"sk-item\"><div class=\"sk-estimator sk-toggleable\"><input class=\"sk-toggleable__control sk-hidden--visually\" id=\"85dbf054-6f88-41de-88de-1184893baef8\" type=\"checkbox\" ><label for=\"85dbf054-6f88-41de-88de-1184893baef8\" class=\"sk-toggleable__label sk-toggleable__label-arrow\">RandomForestRegressor</label><div class=\"sk-toggleable__content\"><pre>RandomForestRegressor(max_depth=5, max_features=&#x27;log2&#x27;, n_estimators=500)</pre></div></div></div></div></div></div></div>"
            ]
          },
          "metadata": {},
          "execution_count": 28
        }
      ]
    },
    {
      "cell_type": "code",
      "source": [
        "pipe.predict(X_test)"
      ],
      "metadata": {
        "colab": {
          "base_uri": "https://localhost:8080/"
        },
        "id": "RYTO2zCEP-y_",
        "outputId": "0876c6c7-cf31-4dc9-c69f-7a93ef43a5dc"
      },
      "execution_count": 29,
      "outputs": [
        {
          "output_type": "execute_result",
          "data": {
            "text/plain": [
              "array([14.97919585, 13.53698637, 18.02431817, 17.04179455, 17.87109082,\n",
              "       21.59231877, 16.74809274, 21.0195449 , 24.65954602, 17.35537403,\n",
              "       29.05151568, 22.64586987, 35.51571748, 17.12574234, 17.03987715,\n",
              "       12.39630682, 12.27425096, 19.30220493, 27.28383664, 19.69433022,\n",
              "       16.75553678, 16.98715444, 27.05442066, 25.67539256, 24.53430761,\n",
              "       16.98715444, 17.77079335, 19.07602268, 27.56128041, 27.13250075,\n",
              "       15.62179513, 20.89963854, 17.72560836, 14.97058763, 14.37032951,\n",
              "       32.14112514, 12.86319054, 16.35597227, 20.85399566, 26.4424758 ,\n",
              "       18.09581212, 22.99820431, 14.70486718, 25.26051717, 14.9236427 ,\n",
              "       21.29591138, 21.96848682, 21.34542683, 14.94736516])"
            ]
          },
          "metadata": {},
          "execution_count": 29
        }
      ]
    }
  ],
  "metadata": {
    "kernelspec": {
      "display_name": "Python 3",
      "language": "python",
      "name": "python3"
    },
    "language_info": {
      "codemirror_mode": {
        "name": "ipython",
        "version": 3
      },
      "file_extension": ".py",
      "mimetype": "text/x-python",
      "name": "python",
      "nbconvert_exporter": "python",
      "pygments_lexer": "ipython3",
      "version": "3.8.5"
    },
    "colab": {
      "provenance": []
    }
  },
  "nbformat": 4,
  "nbformat_minor": 0
}