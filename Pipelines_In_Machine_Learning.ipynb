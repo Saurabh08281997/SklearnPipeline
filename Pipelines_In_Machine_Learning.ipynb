{
  "cells": [
    {
      "cell_type": "code",
      "execution_count": 1,
      "metadata": {
        "id": "JgVtojXRBFtP"
      },
      "outputs": [],
      "source": [
        "from sklearn.pipeline import Pipeline\n",
        "##feature Scaling\n",
        "from sklearn.preprocessing import StandardScaler\n",
        "from sklearn.linear_model import LogisticRegression"
      ]
    },
    {
      "cell_type": "code",
      "execution_count": 2,
      "metadata": {
        "id": "kv7AiB9zBFtS"
      },
      "outputs": [],
      "source": [
        "steps=[(\"standard_scaler\",StandardScaler()),\n",
        "      (\"classifier\",LogisticRegression())]"
      ]
    },
    {
      "cell_type": "code",
      "execution_count": 3,
      "metadata": {
        "colab": {
          "base_uri": "https://localhost:8080/"
        },
        "id": "VLIeSyXABFtT",
        "outputId": "94529595-10e0-4d0f-94dd-e03400423930"
      },
      "outputs": [
        {
          "output_type": "execute_result",
          "data": {
            "text/plain": [
              "[('standard_scaler', StandardScaler()), ('classifier', LogisticRegression())]"
            ]
          },
          "metadata": {},
          "execution_count": 3
        }
      ],
      "source": [
        "steps"
      ]
    },
    {
      "cell_type": "code",
      "execution_count": 4,
      "metadata": {
        "id": "L74zWUcUBFtU"
      },
      "outputs": [],
      "source": [
        "pipe=Pipeline(steps)"
      ]
    },
    {
      "cell_type": "code",
      "execution_count": 5,
      "metadata": {
        "id": "t6TlaZ3LBFtV"
      },
      "outputs": [],
      "source": [
        "##visualize Pipeline\n",
        "from sklearn import set_config"
      ]
    },
    {
      "cell_type": "code",
      "execution_count": 6,
      "metadata": {
        "id": "tdsRWgTmBFtV"
      },
      "outputs": [],
      "source": [
        "set_config(display=\"diagram\")"
      ]
    },
    {
      "cell_type": "code",
      "execution_count": 7,
      "metadata": {
        "colab": {
          "base_uri": "https://localhost:8080/",
          "height": 126
        },
        "id": "ad0arEvLBFtW",
        "outputId": "bb80aadf-1d8d-4a80-abb5-7095a479aa27"
      },
      "outputs": [
        {
          "output_type": "execute_result",
          "data": {
            "text/plain": [
              "Pipeline(steps=[('standard_scaler', StandardScaler()),\n",
              "                ('classifier', LogisticRegression())])"
            ],
            "text/html": [
              "<style>#sk-70d99e3f-e3b7-4c4d-835a-db2a4a464029 {color: black;background-color: white;}#sk-70d99e3f-e3b7-4c4d-835a-db2a4a464029 pre{padding: 0;}#sk-70d99e3f-e3b7-4c4d-835a-db2a4a464029 div.sk-toggleable {background-color: white;}#sk-70d99e3f-e3b7-4c4d-835a-db2a4a464029 label.sk-toggleable__label {cursor: pointer;display: block;width: 100%;margin-bottom: 0;padding: 0.3em;box-sizing: border-box;text-align: center;}#sk-70d99e3f-e3b7-4c4d-835a-db2a4a464029 label.sk-toggleable__label-arrow:before {content: \"▸\";float: left;margin-right: 0.25em;color: #696969;}#sk-70d99e3f-e3b7-4c4d-835a-db2a4a464029 label.sk-toggleable__label-arrow:hover:before {color: black;}#sk-70d99e3f-e3b7-4c4d-835a-db2a4a464029 div.sk-estimator:hover label.sk-toggleable__label-arrow:before {color: black;}#sk-70d99e3f-e3b7-4c4d-835a-db2a4a464029 div.sk-toggleable__content {max-height: 0;max-width: 0;overflow: hidden;text-align: left;background-color: #f0f8ff;}#sk-70d99e3f-e3b7-4c4d-835a-db2a4a464029 div.sk-toggleable__content pre {margin: 0.2em;color: black;border-radius: 0.25em;background-color: #f0f8ff;}#sk-70d99e3f-e3b7-4c4d-835a-db2a4a464029 input.sk-toggleable__control:checked~div.sk-toggleable__content {max-height: 200px;max-width: 100%;overflow: auto;}#sk-70d99e3f-e3b7-4c4d-835a-db2a4a464029 input.sk-toggleable__control:checked~label.sk-toggleable__label-arrow:before {content: \"▾\";}#sk-70d99e3f-e3b7-4c4d-835a-db2a4a464029 div.sk-estimator input.sk-toggleable__control:checked~label.sk-toggleable__label {background-color: #d4ebff;}#sk-70d99e3f-e3b7-4c4d-835a-db2a4a464029 div.sk-label input.sk-toggleable__control:checked~label.sk-toggleable__label {background-color: #d4ebff;}#sk-70d99e3f-e3b7-4c4d-835a-db2a4a464029 input.sk-hidden--visually {border: 0;clip: rect(1px 1px 1px 1px);clip: rect(1px, 1px, 1px, 1px);height: 1px;margin: -1px;overflow: hidden;padding: 0;position: absolute;width: 1px;}#sk-70d99e3f-e3b7-4c4d-835a-db2a4a464029 div.sk-estimator {font-family: monospace;background-color: #f0f8ff;border: 1px dotted black;border-radius: 0.25em;box-sizing: border-box;margin-bottom: 0.5em;}#sk-70d99e3f-e3b7-4c4d-835a-db2a4a464029 div.sk-estimator:hover {background-color: #d4ebff;}#sk-70d99e3f-e3b7-4c4d-835a-db2a4a464029 div.sk-parallel-item::after {content: \"\";width: 100%;border-bottom: 1px solid gray;flex-grow: 1;}#sk-70d99e3f-e3b7-4c4d-835a-db2a4a464029 div.sk-label:hover label.sk-toggleable__label {background-color: #d4ebff;}#sk-70d99e3f-e3b7-4c4d-835a-db2a4a464029 div.sk-serial::before {content: \"\";position: absolute;border-left: 1px solid gray;box-sizing: border-box;top: 2em;bottom: 0;left: 50%;}#sk-70d99e3f-e3b7-4c4d-835a-db2a4a464029 div.sk-serial {display: flex;flex-direction: column;align-items: center;background-color: white;padding-right: 0.2em;padding-left: 0.2em;}#sk-70d99e3f-e3b7-4c4d-835a-db2a4a464029 div.sk-item {z-index: 1;}#sk-70d99e3f-e3b7-4c4d-835a-db2a4a464029 div.sk-parallel {display: flex;align-items: stretch;justify-content: center;background-color: white;}#sk-70d99e3f-e3b7-4c4d-835a-db2a4a464029 div.sk-parallel::before {content: \"\";position: absolute;border-left: 1px solid gray;box-sizing: border-box;top: 2em;bottom: 0;left: 50%;}#sk-70d99e3f-e3b7-4c4d-835a-db2a4a464029 div.sk-parallel-item {display: flex;flex-direction: column;position: relative;background-color: white;}#sk-70d99e3f-e3b7-4c4d-835a-db2a4a464029 div.sk-parallel-item:first-child::after {align-self: flex-end;width: 50%;}#sk-70d99e3f-e3b7-4c4d-835a-db2a4a464029 div.sk-parallel-item:last-child::after {align-self: flex-start;width: 50%;}#sk-70d99e3f-e3b7-4c4d-835a-db2a4a464029 div.sk-parallel-item:only-child::after {width: 0;}#sk-70d99e3f-e3b7-4c4d-835a-db2a4a464029 div.sk-dashed-wrapped {border: 1px dashed gray;margin: 0 0.4em 0.5em 0.4em;box-sizing: border-box;padding-bottom: 0.4em;background-color: white;position: relative;}#sk-70d99e3f-e3b7-4c4d-835a-db2a4a464029 div.sk-label label {font-family: monospace;font-weight: bold;background-color: white;display: inline-block;line-height: 1.2em;}#sk-70d99e3f-e3b7-4c4d-835a-db2a4a464029 div.sk-label-container {position: relative;z-index: 2;text-align: center;}#sk-70d99e3f-e3b7-4c4d-835a-db2a4a464029 div.sk-container {/* jupyter's `normalize.less` sets `[hidden] { display: none; }` but bootstrap.min.css set `[hidden] { display: none !important; }` so we also need the `!important` here to be able to override the default hidden behavior on the sphinx rendered scikit-learn.org. See: https://github.com/scikit-learn/scikit-learn/issues/21755 */display: inline-block !important;position: relative;}#sk-70d99e3f-e3b7-4c4d-835a-db2a4a464029 div.sk-text-repr-fallback {display: none;}</style><div id=\"sk-70d99e3f-e3b7-4c4d-835a-db2a4a464029\" class=\"sk-top-container\"><div class=\"sk-text-repr-fallback\"><pre>Pipeline(steps=[(&#x27;standard_scaler&#x27;, StandardScaler()),\n",
              "                (&#x27;classifier&#x27;, LogisticRegression())])</pre><b>Please rerun this cell to show the HTML repr or trust the notebook.</b></div><div class=\"sk-container\" hidden><div class=\"sk-item sk-dashed-wrapped\"><div class=\"sk-label-container\"><div class=\"sk-label sk-toggleable\"><input class=\"sk-toggleable__control sk-hidden--visually\" id=\"c38a1563-1c41-465b-b854-64e87d38ee18\" type=\"checkbox\" ><label for=\"c38a1563-1c41-465b-b854-64e87d38ee18\" class=\"sk-toggleable__label sk-toggleable__label-arrow\">Pipeline</label><div class=\"sk-toggleable__content\"><pre>Pipeline(steps=[(&#x27;standard_scaler&#x27;, StandardScaler()),\n",
              "                (&#x27;classifier&#x27;, LogisticRegression())])</pre></div></div></div><div class=\"sk-serial\"><div class=\"sk-item\"><div class=\"sk-estimator sk-toggleable\"><input class=\"sk-toggleable__control sk-hidden--visually\" id=\"90859053-188b-48d7-a4ea-2c6872b25fbf\" type=\"checkbox\" ><label for=\"90859053-188b-48d7-a4ea-2c6872b25fbf\" class=\"sk-toggleable__label sk-toggleable__label-arrow\">StandardScaler</label><div class=\"sk-toggleable__content\"><pre>StandardScaler()</pre></div></div></div><div class=\"sk-item\"><div class=\"sk-estimator sk-toggleable\"><input class=\"sk-toggleable__control sk-hidden--visually\" id=\"0aa2c013-8b6d-4ee3-9c0f-a9b06034e1b5\" type=\"checkbox\" ><label for=\"0aa2c013-8b6d-4ee3-9c0f-a9b06034e1b5\" class=\"sk-toggleable__label sk-toggleable__label-arrow\">LogisticRegression</label><div class=\"sk-toggleable__content\"><pre>LogisticRegression()</pre></div></div></div></div></div></div></div>"
            ]
          },
          "metadata": {},
          "execution_count": 7
        }
      ],
      "source": [
        "pipe"
      ]
    },
    {
      "cell_type": "code",
      "execution_count": 8,
      "metadata": {
        "id": "XqgZ_zbuBFtX"
      },
      "outputs": [],
      "source": [
        "##creating a dataset\n",
        "from sklearn.datasets import make_classification\n",
        "X,y=make_classification(n_samples=1000)"
      ]
    },
    {
      "cell_type": "code",
      "execution_count": 9,
      "metadata": {
        "colab": {
          "base_uri": "https://localhost:8080/"
        },
        "id": "_MFluNq2BFtX",
        "outputId": "38cfcfcf-47b3-49de-c991-5d6b0b9b2a4a"
      },
      "outputs": [
        {
          "output_type": "execute_result",
          "data": {
            "text/plain": [
              "(1000, 20)"
            ]
          },
          "metadata": {},
          "execution_count": 9
        }
      ],
      "source": [
        "X.shape"
      ]
    },
    {
      "cell_type": "code",
      "execution_count": 10,
      "metadata": {
        "id": "eMfgUH0fBFtY"
      },
      "outputs": [],
      "source": [
        "from sklearn.model_selection import train_test_split\n",
        "X_train, X_test, y_train, y_test = train_test_split(\n",
        "    X, y, test_size=0.33, random_state=42)"
      ]
    },
    {
      "cell_type": "code",
      "execution_count": 11,
      "metadata": {
        "colab": {
          "base_uri": "https://localhost:8080/"
        },
        "id": "cBQkuexHBFtY",
        "outputId": "5821a157-f374-43af-dd7e-88056e70de4f"
      },
      "outputs": [
        {
          "output_type": "execute_result",
          "data": {
            "text/plain": [
              "array([[ 1.80885025,  0.60510172,  1.02477157, ...,  1.86480064,\n",
              "         0.65508845, -1.19290487],\n",
              "       [-0.09845883,  1.05370094,  1.66942883, ...,  0.13538032,\n",
              "        -0.03411184, -0.13225821],\n",
              "       [ 0.368334  ,  0.93413379,  1.0579273 , ..., -0.43500091,\n",
              "        -0.51566704, -1.48095576],\n",
              "       ...,\n",
              "       [ 1.514095  ,  0.54668316, -0.89910809, ...,  0.50393013,\n",
              "         1.23805759, -0.6076907 ],\n",
              "       [ 0.58010325,  0.86343262, -0.97465859, ..., -0.95689155,\n",
              "         0.22921129, -0.48674923],\n",
              "       [ 0.03779383, -0.38062136,  1.4309637 , ...,  1.75494886,\n",
              "         0.74092216, -1.19329094]])"
            ]
          },
          "metadata": {},
          "execution_count": 11
        }
      ],
      "source": [
        "X_train"
      ]
    },
    {
      "cell_type": "code",
      "execution_count": 12,
      "metadata": {
        "colab": {
          "base_uri": "https://localhost:8080/",
          "height": 126
        },
        "id": "TgBXC1BHBFtb",
        "outputId": "d72b1899-dd4d-4323-a671-943cf5164939"
      },
      "outputs": [
        {
          "output_type": "execute_result",
          "data": {
            "text/plain": [
              "Pipeline(steps=[('standard_scaler', StandardScaler()),\n",
              "                ('classifier', LogisticRegression())])"
            ],
            "text/html": [
              "<style>#sk-e85bd688-97f6-45da-8175-114d20401e55 {color: black;background-color: white;}#sk-e85bd688-97f6-45da-8175-114d20401e55 pre{padding: 0;}#sk-e85bd688-97f6-45da-8175-114d20401e55 div.sk-toggleable {background-color: white;}#sk-e85bd688-97f6-45da-8175-114d20401e55 label.sk-toggleable__label {cursor: pointer;display: block;width: 100%;margin-bottom: 0;padding: 0.3em;box-sizing: border-box;text-align: center;}#sk-e85bd688-97f6-45da-8175-114d20401e55 label.sk-toggleable__label-arrow:before {content: \"▸\";float: left;margin-right: 0.25em;color: #696969;}#sk-e85bd688-97f6-45da-8175-114d20401e55 label.sk-toggleable__label-arrow:hover:before {color: black;}#sk-e85bd688-97f6-45da-8175-114d20401e55 div.sk-estimator:hover label.sk-toggleable__label-arrow:before {color: black;}#sk-e85bd688-97f6-45da-8175-114d20401e55 div.sk-toggleable__content {max-height: 0;max-width: 0;overflow: hidden;text-align: left;background-color: #f0f8ff;}#sk-e85bd688-97f6-45da-8175-114d20401e55 div.sk-toggleable__content pre {margin: 0.2em;color: black;border-radius: 0.25em;background-color: #f0f8ff;}#sk-e85bd688-97f6-45da-8175-114d20401e55 input.sk-toggleable__control:checked~div.sk-toggleable__content {max-height: 200px;max-width: 100%;overflow: auto;}#sk-e85bd688-97f6-45da-8175-114d20401e55 input.sk-toggleable__control:checked~label.sk-toggleable__label-arrow:before {content: \"▾\";}#sk-e85bd688-97f6-45da-8175-114d20401e55 div.sk-estimator input.sk-toggleable__control:checked~label.sk-toggleable__label {background-color: #d4ebff;}#sk-e85bd688-97f6-45da-8175-114d20401e55 div.sk-label input.sk-toggleable__control:checked~label.sk-toggleable__label {background-color: #d4ebff;}#sk-e85bd688-97f6-45da-8175-114d20401e55 input.sk-hidden--visually {border: 0;clip: rect(1px 1px 1px 1px);clip: rect(1px, 1px, 1px, 1px);height: 1px;margin: -1px;overflow: hidden;padding: 0;position: absolute;width: 1px;}#sk-e85bd688-97f6-45da-8175-114d20401e55 div.sk-estimator {font-family: monospace;background-color: #f0f8ff;border: 1px dotted black;border-radius: 0.25em;box-sizing: border-box;margin-bottom: 0.5em;}#sk-e85bd688-97f6-45da-8175-114d20401e55 div.sk-estimator:hover {background-color: #d4ebff;}#sk-e85bd688-97f6-45da-8175-114d20401e55 div.sk-parallel-item::after {content: \"\";width: 100%;border-bottom: 1px solid gray;flex-grow: 1;}#sk-e85bd688-97f6-45da-8175-114d20401e55 div.sk-label:hover label.sk-toggleable__label {background-color: #d4ebff;}#sk-e85bd688-97f6-45da-8175-114d20401e55 div.sk-serial::before {content: \"\";position: absolute;border-left: 1px solid gray;box-sizing: border-box;top: 2em;bottom: 0;left: 50%;}#sk-e85bd688-97f6-45da-8175-114d20401e55 div.sk-serial {display: flex;flex-direction: column;align-items: center;background-color: white;padding-right: 0.2em;padding-left: 0.2em;}#sk-e85bd688-97f6-45da-8175-114d20401e55 div.sk-item {z-index: 1;}#sk-e85bd688-97f6-45da-8175-114d20401e55 div.sk-parallel {display: flex;align-items: stretch;justify-content: center;background-color: white;}#sk-e85bd688-97f6-45da-8175-114d20401e55 div.sk-parallel::before {content: \"\";position: absolute;border-left: 1px solid gray;box-sizing: border-box;top: 2em;bottom: 0;left: 50%;}#sk-e85bd688-97f6-45da-8175-114d20401e55 div.sk-parallel-item {display: flex;flex-direction: column;position: relative;background-color: white;}#sk-e85bd688-97f6-45da-8175-114d20401e55 div.sk-parallel-item:first-child::after {align-self: flex-end;width: 50%;}#sk-e85bd688-97f6-45da-8175-114d20401e55 div.sk-parallel-item:last-child::after {align-self: flex-start;width: 50%;}#sk-e85bd688-97f6-45da-8175-114d20401e55 div.sk-parallel-item:only-child::after {width: 0;}#sk-e85bd688-97f6-45da-8175-114d20401e55 div.sk-dashed-wrapped {border: 1px dashed gray;margin: 0 0.4em 0.5em 0.4em;box-sizing: border-box;padding-bottom: 0.4em;background-color: white;position: relative;}#sk-e85bd688-97f6-45da-8175-114d20401e55 div.sk-label label {font-family: monospace;font-weight: bold;background-color: white;display: inline-block;line-height: 1.2em;}#sk-e85bd688-97f6-45da-8175-114d20401e55 div.sk-label-container {position: relative;z-index: 2;text-align: center;}#sk-e85bd688-97f6-45da-8175-114d20401e55 div.sk-container {/* jupyter's `normalize.less` sets `[hidden] { display: none; }` but bootstrap.min.css set `[hidden] { display: none !important; }` so we also need the `!important` here to be able to override the default hidden behavior on the sphinx rendered scikit-learn.org. See: https://github.com/scikit-learn/scikit-learn/issues/21755 */display: inline-block !important;position: relative;}#sk-e85bd688-97f6-45da-8175-114d20401e55 div.sk-text-repr-fallback {display: none;}</style><div id=\"sk-e85bd688-97f6-45da-8175-114d20401e55\" class=\"sk-top-container\"><div class=\"sk-text-repr-fallback\"><pre>Pipeline(steps=[(&#x27;standard_scaler&#x27;, StandardScaler()),\n",
              "                (&#x27;classifier&#x27;, LogisticRegression())])</pre><b>Please rerun this cell to show the HTML repr or trust the notebook.</b></div><div class=\"sk-container\" hidden><div class=\"sk-item sk-dashed-wrapped\"><div class=\"sk-label-container\"><div class=\"sk-label sk-toggleable\"><input class=\"sk-toggleable__control sk-hidden--visually\" id=\"03623da3-da4f-456a-8fa6-7a78e8dda65c\" type=\"checkbox\" ><label for=\"03623da3-da4f-456a-8fa6-7a78e8dda65c\" class=\"sk-toggleable__label sk-toggleable__label-arrow\">Pipeline</label><div class=\"sk-toggleable__content\"><pre>Pipeline(steps=[(&#x27;standard_scaler&#x27;, StandardScaler()),\n",
              "                (&#x27;classifier&#x27;, LogisticRegression())])</pre></div></div></div><div class=\"sk-serial\"><div class=\"sk-item\"><div class=\"sk-estimator sk-toggleable\"><input class=\"sk-toggleable__control sk-hidden--visually\" id=\"c1a87b85-b749-4f10-96fa-9db17f2498ea\" type=\"checkbox\" ><label for=\"c1a87b85-b749-4f10-96fa-9db17f2498ea\" class=\"sk-toggleable__label sk-toggleable__label-arrow\">StandardScaler</label><div class=\"sk-toggleable__content\"><pre>StandardScaler()</pre></div></div></div><div class=\"sk-item\"><div class=\"sk-estimator sk-toggleable\"><input class=\"sk-toggleable__control sk-hidden--visually\" id=\"2d5d9bc7-95b8-41b1-9748-3d53f692ccb1\" type=\"checkbox\" ><label for=\"2d5d9bc7-95b8-41b1-9748-3d53f692ccb1\" class=\"sk-toggleable__label sk-toggleable__label-arrow\">LogisticRegression</label><div class=\"sk-toggleable__content\"><pre>LogisticRegression()</pre></div></div></div></div></div></div></div>"
            ]
          },
          "metadata": {},
          "execution_count": 12
        }
      ],
      "source": [
        "pipe.fit(X_train,y_train)"
      ]
    },
    {
      "cell_type": "code",
      "execution_count": 13,
      "metadata": {
        "id": "BLrp79xoBFtb"
      },
      "outputs": [],
      "source": [
        "y_pred=pipe.predict(X_test)"
      ]
    },
    {
      "cell_type": "code",
      "execution_count": 14,
      "metadata": {
        "colab": {
          "base_uri": "https://localhost:8080/"
        },
        "id": "hqayV2RkBFtc",
        "outputId": "b543a978-ba8f-4583-9a4b-96233c2c6f49"
      },
      "outputs": [
        {
          "output_type": "execute_result",
          "data": {
            "text/plain": [
              "array([0, 0, 1, 0, 1, 1, 0, 0, 1, 1, 1, 1, 1, 1, 1, 1, 0, 0, 0, 1, 0, 0,\n",
              "       0, 1, 1, 1, 0, 1, 1, 1, 0, 1, 0, 0, 1, 1, 0, 0, 1, 1, 1, 1, 0, 0,\n",
              "       0, 1, 1, 1, 1, 0, 1, 0, 0, 0, 0, 0, 1, 1, 1, 1, 0, 0, 1, 1, 1, 1,\n",
              "       0, 1, 0, 1, 1, 0, 1, 1, 1, 0, 1, 0, 0, 0, 1, 1, 1, 1, 0, 0, 1, 1,\n",
              "       0, 0, 0, 0, 0, 1, 1, 1, 1, 1, 0, 0, 0, 0, 0, 1, 0, 0, 0, 0, 0, 0,\n",
              "       0, 0, 0, 0, 0, 0, 1, 0, 0, 0, 1, 1, 0, 1, 1, 0, 0, 0, 0, 1, 0, 1,\n",
              "       1, 1, 0, 0, 0, 0, 1, 0, 0, 1, 0, 1, 0, 0, 0, 0, 0, 0, 0, 0, 0, 1,\n",
              "       1, 0, 0, 1, 1, 0, 0, 1, 1, 0, 1, 1, 1, 0, 1, 1, 1, 1, 1, 1, 0, 0,\n",
              "       0, 1, 1, 1, 1, 1, 1, 0, 0, 1, 0, 1, 0, 1, 0, 1, 1, 0, 0, 0, 0, 1,\n",
              "       1, 1, 0, 0, 1, 1, 1, 1, 1, 1, 1, 0, 0, 1, 1, 1, 0, 1, 1, 0, 0, 1,\n",
              "       1, 0, 0, 1, 1, 1, 1, 0, 1, 1, 1, 1, 0, 0, 1, 1, 0, 0, 0, 1, 1, 1,\n",
              "       0, 0, 0, 0, 0, 0, 0, 1, 0, 0, 0, 0, 1, 0, 1, 0, 1, 0, 0, 1, 0, 0,\n",
              "       0, 0, 1, 1, 0, 0, 0, 1, 1, 0, 1, 1, 1, 0, 1, 1, 1, 0, 1, 1, 0, 1,\n",
              "       1, 0, 1, 0, 1, 1, 0, 1, 1, 0, 1, 1, 1, 1, 1, 1, 1, 0, 0, 1, 0, 1,\n",
              "       1, 1, 1, 0, 1, 0, 1, 1, 0, 1, 0, 0, 1, 1, 1, 0, 1, 1, 0, 1, 0, 1])"
            ]
          },
          "metadata": {},
          "execution_count": 14
        }
      ],
      "source": [
        "y_pred"
      ]
    },
    {
      "cell_type": "markdown",
      "metadata": {
        "id": "gQ6oEVnCBFtc"
      },
      "source": [
        "## Example 2\n",
        "Displaying a pipeline with standard scaler, dimesnionality reduction and then estimator"
      ]
    },
    {
      "cell_type": "code",
      "execution_count": 15,
      "metadata": {
        "id": "yizOHdK0BFte"
      },
      "outputs": [],
      "source": [
        "from sklearn.decomposition import PCA\n",
        "from sklearn.svm import SVC"
      ]
    },
    {
      "cell_type": "code",
      "execution_count": 16,
      "metadata": {
        "id": "gU2LDOEYBFtf"
      },
      "outputs": [],
      "source": [
        "steps=[(\"scaling\",StandardScaler()),\n",
        "      (\"PCA\",PCA(n_components=3)),\n",
        "      (\"SVC\",SVC())]"
      ]
    },
    {
      "cell_type": "code",
      "execution_count": 17,
      "metadata": {
        "id": "Lx4dgEtsBFtf"
      },
      "outputs": [],
      "source": [
        "pipe2=Pipeline(steps)"
      ]
    },
    {
      "cell_type": "code",
      "execution_count": 18,
      "metadata": {
        "colab": {
          "base_uri": "https://localhost:8080/",
          "height": 161
        },
        "id": "nurrJPzJBFtg",
        "outputId": "9fae5969-73da-4fee-9135-fd75fd0355e3"
      },
      "outputs": [
        {
          "output_type": "execute_result",
          "data": {
            "text/plain": [
              "Pipeline(steps=[('scaling', StandardScaler()), ('PCA', PCA(n_components=3)),\n",
              "                ('SVC', SVC())])"
            ],
            "text/html": [
              "<style>#sk-83f60bfb-9d63-4354-83d8-b9ef2ca924ed {color: black;background-color: white;}#sk-83f60bfb-9d63-4354-83d8-b9ef2ca924ed pre{padding: 0;}#sk-83f60bfb-9d63-4354-83d8-b9ef2ca924ed div.sk-toggleable {background-color: white;}#sk-83f60bfb-9d63-4354-83d8-b9ef2ca924ed label.sk-toggleable__label {cursor: pointer;display: block;width: 100%;margin-bottom: 0;padding: 0.3em;box-sizing: border-box;text-align: center;}#sk-83f60bfb-9d63-4354-83d8-b9ef2ca924ed label.sk-toggleable__label-arrow:before {content: \"▸\";float: left;margin-right: 0.25em;color: #696969;}#sk-83f60bfb-9d63-4354-83d8-b9ef2ca924ed label.sk-toggleable__label-arrow:hover:before {color: black;}#sk-83f60bfb-9d63-4354-83d8-b9ef2ca924ed div.sk-estimator:hover label.sk-toggleable__label-arrow:before {color: black;}#sk-83f60bfb-9d63-4354-83d8-b9ef2ca924ed div.sk-toggleable__content {max-height: 0;max-width: 0;overflow: hidden;text-align: left;background-color: #f0f8ff;}#sk-83f60bfb-9d63-4354-83d8-b9ef2ca924ed div.sk-toggleable__content pre {margin: 0.2em;color: black;border-radius: 0.25em;background-color: #f0f8ff;}#sk-83f60bfb-9d63-4354-83d8-b9ef2ca924ed input.sk-toggleable__control:checked~div.sk-toggleable__content {max-height: 200px;max-width: 100%;overflow: auto;}#sk-83f60bfb-9d63-4354-83d8-b9ef2ca924ed input.sk-toggleable__control:checked~label.sk-toggleable__label-arrow:before {content: \"▾\";}#sk-83f60bfb-9d63-4354-83d8-b9ef2ca924ed div.sk-estimator input.sk-toggleable__control:checked~label.sk-toggleable__label {background-color: #d4ebff;}#sk-83f60bfb-9d63-4354-83d8-b9ef2ca924ed div.sk-label input.sk-toggleable__control:checked~label.sk-toggleable__label {background-color: #d4ebff;}#sk-83f60bfb-9d63-4354-83d8-b9ef2ca924ed input.sk-hidden--visually {border: 0;clip: rect(1px 1px 1px 1px);clip: rect(1px, 1px, 1px, 1px);height: 1px;margin: -1px;overflow: hidden;padding: 0;position: absolute;width: 1px;}#sk-83f60bfb-9d63-4354-83d8-b9ef2ca924ed div.sk-estimator {font-family: monospace;background-color: #f0f8ff;border: 1px dotted black;border-radius: 0.25em;box-sizing: border-box;margin-bottom: 0.5em;}#sk-83f60bfb-9d63-4354-83d8-b9ef2ca924ed div.sk-estimator:hover {background-color: #d4ebff;}#sk-83f60bfb-9d63-4354-83d8-b9ef2ca924ed div.sk-parallel-item::after {content: \"\";width: 100%;border-bottom: 1px solid gray;flex-grow: 1;}#sk-83f60bfb-9d63-4354-83d8-b9ef2ca924ed div.sk-label:hover label.sk-toggleable__label {background-color: #d4ebff;}#sk-83f60bfb-9d63-4354-83d8-b9ef2ca924ed div.sk-serial::before {content: \"\";position: absolute;border-left: 1px solid gray;box-sizing: border-box;top: 2em;bottom: 0;left: 50%;}#sk-83f60bfb-9d63-4354-83d8-b9ef2ca924ed div.sk-serial {display: flex;flex-direction: column;align-items: center;background-color: white;padding-right: 0.2em;padding-left: 0.2em;}#sk-83f60bfb-9d63-4354-83d8-b9ef2ca924ed div.sk-item {z-index: 1;}#sk-83f60bfb-9d63-4354-83d8-b9ef2ca924ed div.sk-parallel {display: flex;align-items: stretch;justify-content: center;background-color: white;}#sk-83f60bfb-9d63-4354-83d8-b9ef2ca924ed div.sk-parallel::before {content: \"\";position: absolute;border-left: 1px solid gray;box-sizing: border-box;top: 2em;bottom: 0;left: 50%;}#sk-83f60bfb-9d63-4354-83d8-b9ef2ca924ed div.sk-parallel-item {display: flex;flex-direction: column;position: relative;background-color: white;}#sk-83f60bfb-9d63-4354-83d8-b9ef2ca924ed div.sk-parallel-item:first-child::after {align-self: flex-end;width: 50%;}#sk-83f60bfb-9d63-4354-83d8-b9ef2ca924ed div.sk-parallel-item:last-child::after {align-self: flex-start;width: 50%;}#sk-83f60bfb-9d63-4354-83d8-b9ef2ca924ed div.sk-parallel-item:only-child::after {width: 0;}#sk-83f60bfb-9d63-4354-83d8-b9ef2ca924ed div.sk-dashed-wrapped {border: 1px dashed gray;margin: 0 0.4em 0.5em 0.4em;box-sizing: border-box;padding-bottom: 0.4em;background-color: white;position: relative;}#sk-83f60bfb-9d63-4354-83d8-b9ef2ca924ed div.sk-label label {font-family: monospace;font-weight: bold;background-color: white;display: inline-block;line-height: 1.2em;}#sk-83f60bfb-9d63-4354-83d8-b9ef2ca924ed div.sk-label-container {position: relative;z-index: 2;text-align: center;}#sk-83f60bfb-9d63-4354-83d8-b9ef2ca924ed div.sk-container {/* jupyter's `normalize.less` sets `[hidden] { display: none; }` but bootstrap.min.css set `[hidden] { display: none !important; }` so we also need the `!important` here to be able to override the default hidden behavior on the sphinx rendered scikit-learn.org. See: https://github.com/scikit-learn/scikit-learn/issues/21755 */display: inline-block !important;position: relative;}#sk-83f60bfb-9d63-4354-83d8-b9ef2ca924ed div.sk-text-repr-fallback {display: none;}</style><div id=\"sk-83f60bfb-9d63-4354-83d8-b9ef2ca924ed\" class=\"sk-top-container\"><div class=\"sk-text-repr-fallback\"><pre>Pipeline(steps=[(&#x27;scaling&#x27;, StandardScaler()), (&#x27;PCA&#x27;, PCA(n_components=3)),\n",
              "                (&#x27;SVC&#x27;, SVC())])</pre><b>Please rerun this cell to show the HTML repr or trust the notebook.</b></div><div class=\"sk-container\" hidden><div class=\"sk-item sk-dashed-wrapped\"><div class=\"sk-label-container\"><div class=\"sk-label sk-toggleable\"><input class=\"sk-toggleable__control sk-hidden--visually\" id=\"7128949b-a704-4573-b3b2-c104a0ffdb83\" type=\"checkbox\" ><label for=\"7128949b-a704-4573-b3b2-c104a0ffdb83\" class=\"sk-toggleable__label sk-toggleable__label-arrow\">Pipeline</label><div class=\"sk-toggleable__content\"><pre>Pipeline(steps=[(&#x27;scaling&#x27;, StandardScaler()), (&#x27;PCA&#x27;, PCA(n_components=3)),\n",
              "                (&#x27;SVC&#x27;, SVC())])</pre></div></div></div><div class=\"sk-serial\"><div class=\"sk-item\"><div class=\"sk-estimator sk-toggleable\"><input class=\"sk-toggleable__control sk-hidden--visually\" id=\"b370ffbc-19c9-4026-8854-0dd4de0f2db6\" type=\"checkbox\" ><label for=\"b370ffbc-19c9-4026-8854-0dd4de0f2db6\" class=\"sk-toggleable__label sk-toggleable__label-arrow\">StandardScaler</label><div class=\"sk-toggleable__content\"><pre>StandardScaler()</pre></div></div></div><div class=\"sk-item\"><div class=\"sk-estimator sk-toggleable\"><input class=\"sk-toggleable__control sk-hidden--visually\" id=\"7700250d-0486-4ec0-bb30-4d99edfdf4de\" type=\"checkbox\" ><label for=\"7700250d-0486-4ec0-bb30-4d99edfdf4de\" class=\"sk-toggleable__label sk-toggleable__label-arrow\">PCA</label><div class=\"sk-toggleable__content\"><pre>PCA(n_components=3)</pre></div></div></div><div class=\"sk-item\"><div class=\"sk-estimator sk-toggleable\"><input class=\"sk-toggleable__control sk-hidden--visually\" id=\"27573af1-ce18-4341-9004-41ed6f5d0d37\" type=\"checkbox\" ><label for=\"27573af1-ce18-4341-9004-41ed6f5d0d37\" class=\"sk-toggleable__label sk-toggleable__label-arrow\">SVC</label><div class=\"sk-toggleable__content\"><pre>SVC()</pre></div></div></div></div></div></div></div>"
            ]
          },
          "metadata": {},
          "execution_count": 18
        }
      ],
      "source": [
        "pipe2.fit(X_train,y_train)"
      ]
    },
    {
      "cell_type": "code",
      "execution_count": 19,
      "metadata": {
        "colab": {
          "base_uri": "https://localhost:8080/"
        },
        "id": "5uQ5RE1wBFtg",
        "outputId": "af75b9c4-78d6-47ce-8c5d-025e0bff0899"
      },
      "outputs": [
        {
          "output_type": "execute_result",
          "data": {
            "text/plain": [
              "array([0, 0, 1, 0, 1, 1, 0, 1, 1, 1, 1, 1, 1, 1, 1, 1, 0, 0, 0, 1, 0, 0,\n",
              "       0, 1, 1, 1, 0, 1, 1, 1, 0, 1, 0, 0, 1, 1, 0, 0, 1, 1, 1, 1, 0, 0,\n",
              "       0, 1, 1, 1, 1, 0, 1, 0, 0, 0, 0, 0, 1, 1, 1, 1, 0, 0, 1, 1, 1, 1,\n",
              "       1, 1, 0, 1, 1, 0, 1, 1, 1, 0, 1, 0, 0, 0, 1, 1, 1, 1, 0, 0, 1, 1,\n",
              "       0, 1, 0, 0, 0, 1, 1, 1, 1, 1, 0, 0, 0, 0, 0, 1, 0, 0, 0, 0, 0, 0,\n",
              "       1, 0, 0, 0, 0, 0, 1, 1, 0, 1, 1, 1, 0, 1, 1, 0, 0, 0, 0, 1, 0, 1,\n",
              "       1, 1, 0, 0, 0, 0, 1, 1, 0, 1, 0, 1, 0, 0, 0, 0, 0, 0, 0, 0, 0, 1,\n",
              "       1, 0, 0, 1, 1, 0, 1, 1, 1, 0, 1, 1, 1, 0, 1, 1, 1, 1, 0, 0, 0, 0,\n",
              "       0, 1, 1, 1, 1, 1, 1, 0, 0, 1, 0, 1, 0, 1, 0, 1, 1, 0, 0, 0, 0, 1,\n",
              "       1, 1, 0, 0, 1, 1, 1, 1, 1, 1, 1, 0, 0, 1, 1, 1, 0, 1, 1, 0, 0, 1,\n",
              "       1, 0, 0, 1, 1, 1, 1, 0, 1, 1, 1, 1, 0, 0, 1, 1, 1, 0, 0, 1, 1, 1,\n",
              "       0, 0, 0, 0, 0, 0, 1, 1, 0, 0, 0, 0, 1, 0, 1, 1, 1, 0, 0, 1, 0, 0,\n",
              "       0, 0, 1, 1, 0, 0, 0, 1, 1, 0, 1, 1, 1, 0, 1, 1, 1, 0, 1, 1, 0, 1,\n",
              "       1, 0, 1, 0, 1, 1, 0, 1, 1, 0, 1, 1, 1, 1, 1, 1, 1, 0, 1, 1, 0, 1,\n",
              "       1, 1, 1, 0, 1, 0, 1, 1, 0, 1, 0, 0, 1, 1, 1, 0, 1, 1, 0, 1, 0, 1])"
            ]
          },
          "metadata": {},
          "execution_count": 19
        }
      ],
      "source": [
        "pipe2.predict(X_test)"
      ]
    },
    {
      "cell_type": "markdown",
      "metadata": {
        "id": "FTq-GkSXBFth"
      },
      "source": [
        "## Complex examples of columns transformer"
      ]
    },
    {
      "cell_type": "code",
      "execution_count": 20,
      "metadata": {
        "id": "BiPdARGXBFth"
      },
      "outputs": [],
      "source": [
        "from sklearn.impute import SimpleImputer"
      ]
    },
    {
      "cell_type": "code",
      "execution_count": 21,
      "metadata": {
        "id": "dyshY4QlBFth"
      },
      "outputs": [],
      "source": [
        "## numerical processing pipeline\n",
        "import numpy as np\n",
        "numeric_processor=Pipeline(\n",
        "    steps=[(\"imputation_mean\",SimpleImputer(missing_values=np.nan,strategy=\"mean\")),\n",
        "          (\"scaler\",StandardScaler())]\n",
        "\n",
        ")"
      ]
    },
    {
      "cell_type": "code",
      "execution_count": 22,
      "metadata": {
        "colab": {
          "base_uri": "https://localhost:8080/",
          "height": 126
        },
        "id": "bmLKj0hoBFti",
        "outputId": "88739fbf-0e36-47e7-a935-cc21309f1012"
      },
      "outputs": [
        {
          "output_type": "execute_result",
          "data": {
            "text/plain": [
              "Pipeline(steps=[('imputation_mean', SimpleImputer()),\n",
              "                ('scaler', StandardScaler())])"
            ],
            "text/html": [
              "<style>#sk-17db839e-6058-4008-861e-4c68ee02b78c {color: black;background-color: white;}#sk-17db839e-6058-4008-861e-4c68ee02b78c pre{padding: 0;}#sk-17db839e-6058-4008-861e-4c68ee02b78c div.sk-toggleable {background-color: white;}#sk-17db839e-6058-4008-861e-4c68ee02b78c label.sk-toggleable__label {cursor: pointer;display: block;width: 100%;margin-bottom: 0;padding: 0.3em;box-sizing: border-box;text-align: center;}#sk-17db839e-6058-4008-861e-4c68ee02b78c label.sk-toggleable__label-arrow:before {content: \"▸\";float: left;margin-right: 0.25em;color: #696969;}#sk-17db839e-6058-4008-861e-4c68ee02b78c label.sk-toggleable__label-arrow:hover:before {color: black;}#sk-17db839e-6058-4008-861e-4c68ee02b78c div.sk-estimator:hover label.sk-toggleable__label-arrow:before {color: black;}#sk-17db839e-6058-4008-861e-4c68ee02b78c div.sk-toggleable__content {max-height: 0;max-width: 0;overflow: hidden;text-align: left;background-color: #f0f8ff;}#sk-17db839e-6058-4008-861e-4c68ee02b78c div.sk-toggleable__content pre {margin: 0.2em;color: black;border-radius: 0.25em;background-color: #f0f8ff;}#sk-17db839e-6058-4008-861e-4c68ee02b78c input.sk-toggleable__control:checked~div.sk-toggleable__content {max-height: 200px;max-width: 100%;overflow: auto;}#sk-17db839e-6058-4008-861e-4c68ee02b78c input.sk-toggleable__control:checked~label.sk-toggleable__label-arrow:before {content: \"▾\";}#sk-17db839e-6058-4008-861e-4c68ee02b78c div.sk-estimator input.sk-toggleable__control:checked~label.sk-toggleable__label {background-color: #d4ebff;}#sk-17db839e-6058-4008-861e-4c68ee02b78c div.sk-label input.sk-toggleable__control:checked~label.sk-toggleable__label {background-color: #d4ebff;}#sk-17db839e-6058-4008-861e-4c68ee02b78c input.sk-hidden--visually {border: 0;clip: rect(1px 1px 1px 1px);clip: rect(1px, 1px, 1px, 1px);height: 1px;margin: -1px;overflow: hidden;padding: 0;position: absolute;width: 1px;}#sk-17db839e-6058-4008-861e-4c68ee02b78c div.sk-estimator {font-family: monospace;background-color: #f0f8ff;border: 1px dotted black;border-radius: 0.25em;box-sizing: border-box;margin-bottom: 0.5em;}#sk-17db839e-6058-4008-861e-4c68ee02b78c div.sk-estimator:hover {background-color: #d4ebff;}#sk-17db839e-6058-4008-861e-4c68ee02b78c div.sk-parallel-item::after {content: \"\";width: 100%;border-bottom: 1px solid gray;flex-grow: 1;}#sk-17db839e-6058-4008-861e-4c68ee02b78c div.sk-label:hover label.sk-toggleable__label {background-color: #d4ebff;}#sk-17db839e-6058-4008-861e-4c68ee02b78c div.sk-serial::before {content: \"\";position: absolute;border-left: 1px solid gray;box-sizing: border-box;top: 2em;bottom: 0;left: 50%;}#sk-17db839e-6058-4008-861e-4c68ee02b78c div.sk-serial {display: flex;flex-direction: column;align-items: center;background-color: white;padding-right: 0.2em;padding-left: 0.2em;}#sk-17db839e-6058-4008-861e-4c68ee02b78c div.sk-item {z-index: 1;}#sk-17db839e-6058-4008-861e-4c68ee02b78c div.sk-parallel {display: flex;align-items: stretch;justify-content: center;background-color: white;}#sk-17db839e-6058-4008-861e-4c68ee02b78c div.sk-parallel::before {content: \"\";position: absolute;border-left: 1px solid gray;box-sizing: border-box;top: 2em;bottom: 0;left: 50%;}#sk-17db839e-6058-4008-861e-4c68ee02b78c div.sk-parallel-item {display: flex;flex-direction: column;position: relative;background-color: white;}#sk-17db839e-6058-4008-861e-4c68ee02b78c div.sk-parallel-item:first-child::after {align-self: flex-end;width: 50%;}#sk-17db839e-6058-4008-861e-4c68ee02b78c div.sk-parallel-item:last-child::after {align-self: flex-start;width: 50%;}#sk-17db839e-6058-4008-861e-4c68ee02b78c div.sk-parallel-item:only-child::after {width: 0;}#sk-17db839e-6058-4008-861e-4c68ee02b78c div.sk-dashed-wrapped {border: 1px dashed gray;margin: 0 0.4em 0.5em 0.4em;box-sizing: border-box;padding-bottom: 0.4em;background-color: white;position: relative;}#sk-17db839e-6058-4008-861e-4c68ee02b78c div.sk-label label {font-family: monospace;font-weight: bold;background-color: white;display: inline-block;line-height: 1.2em;}#sk-17db839e-6058-4008-861e-4c68ee02b78c div.sk-label-container {position: relative;z-index: 2;text-align: center;}#sk-17db839e-6058-4008-861e-4c68ee02b78c div.sk-container {/* jupyter's `normalize.less` sets `[hidden] { display: none; }` but bootstrap.min.css set `[hidden] { display: none !important; }` so we also need the `!important` here to be able to override the default hidden behavior on the sphinx rendered scikit-learn.org. See: https://github.com/scikit-learn/scikit-learn/issues/21755 */display: inline-block !important;position: relative;}#sk-17db839e-6058-4008-861e-4c68ee02b78c div.sk-text-repr-fallback {display: none;}</style><div id=\"sk-17db839e-6058-4008-861e-4c68ee02b78c\" class=\"sk-top-container\"><div class=\"sk-text-repr-fallback\"><pre>Pipeline(steps=[(&#x27;imputation_mean&#x27;, SimpleImputer()),\n",
              "                (&#x27;scaler&#x27;, StandardScaler())])</pre><b>Please rerun this cell to show the HTML repr or trust the notebook.</b></div><div class=\"sk-container\" hidden><div class=\"sk-item sk-dashed-wrapped\"><div class=\"sk-label-container\"><div class=\"sk-label sk-toggleable\"><input class=\"sk-toggleable__control sk-hidden--visually\" id=\"2d67ea13-8970-410b-9000-33f828002898\" type=\"checkbox\" ><label for=\"2d67ea13-8970-410b-9000-33f828002898\" class=\"sk-toggleable__label sk-toggleable__label-arrow\">Pipeline</label><div class=\"sk-toggleable__content\"><pre>Pipeline(steps=[(&#x27;imputation_mean&#x27;, SimpleImputer()),\n",
              "                (&#x27;scaler&#x27;, StandardScaler())])</pre></div></div></div><div class=\"sk-serial\"><div class=\"sk-item\"><div class=\"sk-estimator sk-toggleable\"><input class=\"sk-toggleable__control sk-hidden--visually\" id=\"391e676e-e87e-458a-b402-644eba6edc8d\" type=\"checkbox\" ><label for=\"391e676e-e87e-458a-b402-644eba6edc8d\" class=\"sk-toggleable__label sk-toggleable__label-arrow\">SimpleImputer</label><div class=\"sk-toggleable__content\"><pre>SimpleImputer()</pre></div></div></div><div class=\"sk-item\"><div class=\"sk-estimator sk-toggleable\"><input class=\"sk-toggleable__control sk-hidden--visually\" id=\"d5b8749c-6920-4125-877c-92ee95089774\" type=\"checkbox\" ><label for=\"d5b8749c-6920-4125-877c-92ee95089774\" class=\"sk-toggleable__label sk-toggleable__label-arrow\">StandardScaler</label><div class=\"sk-toggleable__content\"><pre>StandardScaler()</pre></div></div></div></div></div></div></div>"
            ]
          },
          "metadata": {},
          "execution_count": 22
        }
      ],
      "source": [
        "numeric_processor"
      ]
    },
    {
      "cell_type": "code",
      "execution_count": 23,
      "metadata": {
        "id": "YwD_aO83BFti"
      },
      "outputs": [],
      "source": [
        "##categorical procesing pipeline"
      ]
    },
    {
      "cell_type": "code",
      "execution_count": 24,
      "metadata": {
        "id": "KoE-Lt37BFtj"
      },
      "outputs": [],
      "source": [
        "from sklearn.preprocessing import OneHotEncoder\n",
        "categorical_processor=Pipeline(\n",
        "    steps=[(\"imputation_consatnt\",SimpleImputer(fill_value=\"missing\",strategy=\"constant\")),\n",
        "          (\"onehot\",OneHotEncoder(handle_unknown=\"ignore\"))]\n",
        "\n",
        ")"
      ]
    },
    {
      "cell_type": "code",
      "execution_count": 25,
      "metadata": {
        "colab": {
          "base_uri": "https://localhost:8080/",
          "height": 126
        },
        "id": "-yS7snvLBFtj",
        "outputId": "1b01d3cc-b2e4-4e00-be8d-400fb1be9334"
      },
      "outputs": [
        {
          "output_type": "execute_result",
          "data": {
            "text/plain": [
              "Pipeline(steps=[('imputation_consatnt',\n",
              "                 SimpleImputer(fill_value='missing', strategy='constant')),\n",
              "                ('onehot', OneHotEncoder(handle_unknown='ignore'))])"
            ],
            "text/html": [
              "<style>#sk-d8a9d0fc-2fd9-4d24-8883-03b1ef664322 {color: black;background-color: white;}#sk-d8a9d0fc-2fd9-4d24-8883-03b1ef664322 pre{padding: 0;}#sk-d8a9d0fc-2fd9-4d24-8883-03b1ef664322 div.sk-toggleable {background-color: white;}#sk-d8a9d0fc-2fd9-4d24-8883-03b1ef664322 label.sk-toggleable__label {cursor: pointer;display: block;width: 100%;margin-bottom: 0;padding: 0.3em;box-sizing: border-box;text-align: center;}#sk-d8a9d0fc-2fd9-4d24-8883-03b1ef664322 label.sk-toggleable__label-arrow:before {content: \"▸\";float: left;margin-right: 0.25em;color: #696969;}#sk-d8a9d0fc-2fd9-4d24-8883-03b1ef664322 label.sk-toggleable__label-arrow:hover:before {color: black;}#sk-d8a9d0fc-2fd9-4d24-8883-03b1ef664322 div.sk-estimator:hover label.sk-toggleable__label-arrow:before {color: black;}#sk-d8a9d0fc-2fd9-4d24-8883-03b1ef664322 div.sk-toggleable__content {max-height: 0;max-width: 0;overflow: hidden;text-align: left;background-color: #f0f8ff;}#sk-d8a9d0fc-2fd9-4d24-8883-03b1ef664322 div.sk-toggleable__content pre {margin: 0.2em;color: black;border-radius: 0.25em;background-color: #f0f8ff;}#sk-d8a9d0fc-2fd9-4d24-8883-03b1ef664322 input.sk-toggleable__control:checked~div.sk-toggleable__content {max-height: 200px;max-width: 100%;overflow: auto;}#sk-d8a9d0fc-2fd9-4d24-8883-03b1ef664322 input.sk-toggleable__control:checked~label.sk-toggleable__label-arrow:before {content: \"▾\";}#sk-d8a9d0fc-2fd9-4d24-8883-03b1ef664322 div.sk-estimator input.sk-toggleable__control:checked~label.sk-toggleable__label {background-color: #d4ebff;}#sk-d8a9d0fc-2fd9-4d24-8883-03b1ef664322 div.sk-label input.sk-toggleable__control:checked~label.sk-toggleable__label {background-color: #d4ebff;}#sk-d8a9d0fc-2fd9-4d24-8883-03b1ef664322 input.sk-hidden--visually {border: 0;clip: rect(1px 1px 1px 1px);clip: rect(1px, 1px, 1px, 1px);height: 1px;margin: -1px;overflow: hidden;padding: 0;position: absolute;width: 1px;}#sk-d8a9d0fc-2fd9-4d24-8883-03b1ef664322 div.sk-estimator {font-family: monospace;background-color: #f0f8ff;border: 1px dotted black;border-radius: 0.25em;box-sizing: border-box;margin-bottom: 0.5em;}#sk-d8a9d0fc-2fd9-4d24-8883-03b1ef664322 div.sk-estimator:hover {background-color: #d4ebff;}#sk-d8a9d0fc-2fd9-4d24-8883-03b1ef664322 div.sk-parallel-item::after {content: \"\";width: 100%;border-bottom: 1px solid gray;flex-grow: 1;}#sk-d8a9d0fc-2fd9-4d24-8883-03b1ef664322 div.sk-label:hover label.sk-toggleable__label {background-color: #d4ebff;}#sk-d8a9d0fc-2fd9-4d24-8883-03b1ef664322 div.sk-serial::before {content: \"\";position: absolute;border-left: 1px solid gray;box-sizing: border-box;top: 2em;bottom: 0;left: 50%;}#sk-d8a9d0fc-2fd9-4d24-8883-03b1ef664322 div.sk-serial {display: flex;flex-direction: column;align-items: center;background-color: white;padding-right: 0.2em;padding-left: 0.2em;}#sk-d8a9d0fc-2fd9-4d24-8883-03b1ef664322 div.sk-item {z-index: 1;}#sk-d8a9d0fc-2fd9-4d24-8883-03b1ef664322 div.sk-parallel {display: flex;align-items: stretch;justify-content: center;background-color: white;}#sk-d8a9d0fc-2fd9-4d24-8883-03b1ef664322 div.sk-parallel::before {content: \"\";position: absolute;border-left: 1px solid gray;box-sizing: border-box;top: 2em;bottom: 0;left: 50%;}#sk-d8a9d0fc-2fd9-4d24-8883-03b1ef664322 div.sk-parallel-item {display: flex;flex-direction: column;position: relative;background-color: white;}#sk-d8a9d0fc-2fd9-4d24-8883-03b1ef664322 div.sk-parallel-item:first-child::after {align-self: flex-end;width: 50%;}#sk-d8a9d0fc-2fd9-4d24-8883-03b1ef664322 div.sk-parallel-item:last-child::after {align-self: flex-start;width: 50%;}#sk-d8a9d0fc-2fd9-4d24-8883-03b1ef664322 div.sk-parallel-item:only-child::after {width: 0;}#sk-d8a9d0fc-2fd9-4d24-8883-03b1ef664322 div.sk-dashed-wrapped {border: 1px dashed gray;margin: 0 0.4em 0.5em 0.4em;box-sizing: border-box;padding-bottom: 0.4em;background-color: white;position: relative;}#sk-d8a9d0fc-2fd9-4d24-8883-03b1ef664322 div.sk-label label {font-family: monospace;font-weight: bold;background-color: white;display: inline-block;line-height: 1.2em;}#sk-d8a9d0fc-2fd9-4d24-8883-03b1ef664322 div.sk-label-container {position: relative;z-index: 2;text-align: center;}#sk-d8a9d0fc-2fd9-4d24-8883-03b1ef664322 div.sk-container {/* jupyter's `normalize.less` sets `[hidden] { display: none; }` but bootstrap.min.css set `[hidden] { display: none !important; }` so we also need the `!important` here to be able to override the default hidden behavior on the sphinx rendered scikit-learn.org. See: https://github.com/scikit-learn/scikit-learn/issues/21755 */display: inline-block !important;position: relative;}#sk-d8a9d0fc-2fd9-4d24-8883-03b1ef664322 div.sk-text-repr-fallback {display: none;}</style><div id=\"sk-d8a9d0fc-2fd9-4d24-8883-03b1ef664322\" class=\"sk-top-container\"><div class=\"sk-text-repr-fallback\"><pre>Pipeline(steps=[(&#x27;imputation_consatnt&#x27;,\n",
              "                 SimpleImputer(fill_value=&#x27;missing&#x27;, strategy=&#x27;constant&#x27;)),\n",
              "                (&#x27;onehot&#x27;, OneHotEncoder(handle_unknown=&#x27;ignore&#x27;))])</pre><b>Please rerun this cell to show the HTML repr or trust the notebook.</b></div><div class=\"sk-container\" hidden><div class=\"sk-item sk-dashed-wrapped\"><div class=\"sk-label-container\"><div class=\"sk-label sk-toggleable\"><input class=\"sk-toggleable__control sk-hidden--visually\" id=\"a0a219fb-9256-4adb-bf29-9b68e7597204\" type=\"checkbox\" ><label for=\"a0a219fb-9256-4adb-bf29-9b68e7597204\" class=\"sk-toggleable__label sk-toggleable__label-arrow\">Pipeline</label><div class=\"sk-toggleable__content\"><pre>Pipeline(steps=[(&#x27;imputation_consatnt&#x27;,\n",
              "                 SimpleImputer(fill_value=&#x27;missing&#x27;, strategy=&#x27;constant&#x27;)),\n",
              "                (&#x27;onehot&#x27;, OneHotEncoder(handle_unknown=&#x27;ignore&#x27;))])</pre></div></div></div><div class=\"sk-serial\"><div class=\"sk-item\"><div class=\"sk-estimator sk-toggleable\"><input class=\"sk-toggleable__control sk-hidden--visually\" id=\"8ae2ee6c-1168-4f0e-bb70-13f5031081a4\" type=\"checkbox\" ><label for=\"8ae2ee6c-1168-4f0e-bb70-13f5031081a4\" class=\"sk-toggleable__label sk-toggleable__label-arrow\">SimpleImputer</label><div class=\"sk-toggleable__content\"><pre>SimpleImputer(fill_value=&#x27;missing&#x27;, strategy=&#x27;constant&#x27;)</pre></div></div></div><div class=\"sk-item\"><div class=\"sk-estimator sk-toggleable\"><input class=\"sk-toggleable__control sk-hidden--visually\" id=\"94d162a2-dbce-47ed-be98-8a518f01a17a\" type=\"checkbox\" ><label for=\"94d162a2-dbce-47ed-be98-8a518f01a17a\" class=\"sk-toggleable__label sk-toggleable__label-arrow\">OneHotEncoder</label><div class=\"sk-toggleable__content\"><pre>OneHotEncoder(handle_unknown=&#x27;ignore&#x27;)</pre></div></div></div></div></div></div></div>"
            ]
          },
          "metadata": {},
          "execution_count": 25
        }
      ],
      "source": [
        "categorical_processor"
      ]
    },
    {
      "cell_type": "code",
      "execution_count": 26,
      "metadata": {
        "id": "jMsnlz8qBFtj"
      },
      "outputs": [],
      "source": [
        "## combine processing technqiues\n",
        "from sklearn.compose import ColumnTransformer"
      ]
    },
    {
      "cell_type": "code",
      "execution_count": 27,
      "metadata": {
        "id": "W_s5yYoXBFtk"
      },
      "outputs": [],
      "source": [
        "preprocessor=ColumnTransformer(\n",
        "    [(\"categorical\",categorical_processor,[\"gender\",\"City\"]),\n",
        "    (\"numerical\",numeric_processor,[\"age\",\"height\"])]\n",
        "\n",
        "\n",
        ")"
      ]
    },
    {
      "cell_type": "code",
      "execution_count": 28,
      "metadata": {
        "colab": {
          "base_uri": "https://localhost:8080/",
          "height": 152
        },
        "id": "ctr2yxLuBFtk",
        "outputId": "649b7ff2-2ab7-41ce-9f2a-dbadd7965ab8"
      },
      "outputs": [
        {
          "output_type": "execute_result",
          "data": {
            "text/plain": [
              "ColumnTransformer(transformers=[('categorical',\n",
              "                                 Pipeline(steps=[('imputation_consatnt',\n",
              "                                                  SimpleImputer(fill_value='missing',\n",
              "                                                                strategy='constant')),\n",
              "                                                 ('onehot',\n",
              "                                                  OneHotEncoder(handle_unknown='ignore'))]),\n",
              "                                 ['gender', 'City']),\n",
              "                                ('numerical',\n",
              "                                 Pipeline(steps=[('imputation_mean',\n",
              "                                                  SimpleImputer()),\n",
              "                                                 ('scaler', StandardScaler())]),\n",
              "                                 ['age', 'height'])])"
            ],
            "text/html": [
              "<style>#sk-c780a5e0-5d3d-4ff9-9fc4-1196b95474e4 {color: black;background-color: white;}#sk-c780a5e0-5d3d-4ff9-9fc4-1196b95474e4 pre{padding: 0;}#sk-c780a5e0-5d3d-4ff9-9fc4-1196b95474e4 div.sk-toggleable {background-color: white;}#sk-c780a5e0-5d3d-4ff9-9fc4-1196b95474e4 label.sk-toggleable__label {cursor: pointer;display: block;width: 100%;margin-bottom: 0;padding: 0.3em;box-sizing: border-box;text-align: center;}#sk-c780a5e0-5d3d-4ff9-9fc4-1196b95474e4 label.sk-toggleable__label-arrow:before {content: \"▸\";float: left;margin-right: 0.25em;color: #696969;}#sk-c780a5e0-5d3d-4ff9-9fc4-1196b95474e4 label.sk-toggleable__label-arrow:hover:before {color: black;}#sk-c780a5e0-5d3d-4ff9-9fc4-1196b95474e4 div.sk-estimator:hover label.sk-toggleable__label-arrow:before {color: black;}#sk-c780a5e0-5d3d-4ff9-9fc4-1196b95474e4 div.sk-toggleable__content {max-height: 0;max-width: 0;overflow: hidden;text-align: left;background-color: #f0f8ff;}#sk-c780a5e0-5d3d-4ff9-9fc4-1196b95474e4 div.sk-toggleable__content pre {margin: 0.2em;color: black;border-radius: 0.25em;background-color: #f0f8ff;}#sk-c780a5e0-5d3d-4ff9-9fc4-1196b95474e4 input.sk-toggleable__control:checked~div.sk-toggleable__content {max-height: 200px;max-width: 100%;overflow: auto;}#sk-c780a5e0-5d3d-4ff9-9fc4-1196b95474e4 input.sk-toggleable__control:checked~label.sk-toggleable__label-arrow:before {content: \"▾\";}#sk-c780a5e0-5d3d-4ff9-9fc4-1196b95474e4 div.sk-estimator input.sk-toggleable__control:checked~label.sk-toggleable__label {background-color: #d4ebff;}#sk-c780a5e0-5d3d-4ff9-9fc4-1196b95474e4 div.sk-label input.sk-toggleable__control:checked~label.sk-toggleable__label {background-color: #d4ebff;}#sk-c780a5e0-5d3d-4ff9-9fc4-1196b95474e4 input.sk-hidden--visually {border: 0;clip: rect(1px 1px 1px 1px);clip: rect(1px, 1px, 1px, 1px);height: 1px;margin: -1px;overflow: hidden;padding: 0;position: absolute;width: 1px;}#sk-c780a5e0-5d3d-4ff9-9fc4-1196b95474e4 div.sk-estimator {font-family: monospace;background-color: #f0f8ff;border: 1px dotted black;border-radius: 0.25em;box-sizing: border-box;margin-bottom: 0.5em;}#sk-c780a5e0-5d3d-4ff9-9fc4-1196b95474e4 div.sk-estimator:hover {background-color: #d4ebff;}#sk-c780a5e0-5d3d-4ff9-9fc4-1196b95474e4 div.sk-parallel-item::after {content: \"\";width: 100%;border-bottom: 1px solid gray;flex-grow: 1;}#sk-c780a5e0-5d3d-4ff9-9fc4-1196b95474e4 div.sk-label:hover label.sk-toggleable__label {background-color: #d4ebff;}#sk-c780a5e0-5d3d-4ff9-9fc4-1196b95474e4 div.sk-serial::before {content: \"\";position: absolute;border-left: 1px solid gray;box-sizing: border-box;top: 2em;bottom: 0;left: 50%;}#sk-c780a5e0-5d3d-4ff9-9fc4-1196b95474e4 div.sk-serial {display: flex;flex-direction: column;align-items: center;background-color: white;padding-right: 0.2em;padding-left: 0.2em;}#sk-c780a5e0-5d3d-4ff9-9fc4-1196b95474e4 div.sk-item {z-index: 1;}#sk-c780a5e0-5d3d-4ff9-9fc4-1196b95474e4 div.sk-parallel {display: flex;align-items: stretch;justify-content: center;background-color: white;}#sk-c780a5e0-5d3d-4ff9-9fc4-1196b95474e4 div.sk-parallel::before {content: \"\";position: absolute;border-left: 1px solid gray;box-sizing: border-box;top: 2em;bottom: 0;left: 50%;}#sk-c780a5e0-5d3d-4ff9-9fc4-1196b95474e4 div.sk-parallel-item {display: flex;flex-direction: column;position: relative;background-color: white;}#sk-c780a5e0-5d3d-4ff9-9fc4-1196b95474e4 div.sk-parallel-item:first-child::after {align-self: flex-end;width: 50%;}#sk-c780a5e0-5d3d-4ff9-9fc4-1196b95474e4 div.sk-parallel-item:last-child::after {align-self: flex-start;width: 50%;}#sk-c780a5e0-5d3d-4ff9-9fc4-1196b95474e4 div.sk-parallel-item:only-child::after {width: 0;}#sk-c780a5e0-5d3d-4ff9-9fc4-1196b95474e4 div.sk-dashed-wrapped {border: 1px dashed gray;margin: 0 0.4em 0.5em 0.4em;box-sizing: border-box;padding-bottom: 0.4em;background-color: white;position: relative;}#sk-c780a5e0-5d3d-4ff9-9fc4-1196b95474e4 div.sk-label label {font-family: monospace;font-weight: bold;background-color: white;display: inline-block;line-height: 1.2em;}#sk-c780a5e0-5d3d-4ff9-9fc4-1196b95474e4 div.sk-label-container {position: relative;z-index: 2;text-align: center;}#sk-c780a5e0-5d3d-4ff9-9fc4-1196b95474e4 div.sk-container {/* jupyter's `normalize.less` sets `[hidden] { display: none; }` but bootstrap.min.css set `[hidden] { display: none !important; }` so we also need the `!important` here to be able to override the default hidden behavior on the sphinx rendered scikit-learn.org. See: https://github.com/scikit-learn/scikit-learn/issues/21755 */display: inline-block !important;position: relative;}#sk-c780a5e0-5d3d-4ff9-9fc4-1196b95474e4 div.sk-text-repr-fallback {display: none;}</style><div id=\"sk-c780a5e0-5d3d-4ff9-9fc4-1196b95474e4\" class=\"sk-top-container\"><div class=\"sk-text-repr-fallback\"><pre>ColumnTransformer(transformers=[(&#x27;categorical&#x27;,\n",
              "                                 Pipeline(steps=[(&#x27;imputation_consatnt&#x27;,\n",
              "                                                  SimpleImputer(fill_value=&#x27;missing&#x27;,\n",
              "                                                                strategy=&#x27;constant&#x27;)),\n",
              "                                                 (&#x27;onehot&#x27;,\n",
              "                                                  OneHotEncoder(handle_unknown=&#x27;ignore&#x27;))]),\n",
              "                                 [&#x27;gender&#x27;, &#x27;City&#x27;]),\n",
              "                                (&#x27;numerical&#x27;,\n",
              "                                 Pipeline(steps=[(&#x27;imputation_mean&#x27;,\n",
              "                                                  SimpleImputer()),\n",
              "                                                 (&#x27;scaler&#x27;, StandardScaler())]),\n",
              "                                 [&#x27;age&#x27;, &#x27;height&#x27;])])</pre><b>Please rerun this cell to show the HTML repr or trust the notebook.</b></div><div class=\"sk-container\" hidden><div class=\"sk-item sk-dashed-wrapped\"><div class=\"sk-label-container\"><div class=\"sk-label sk-toggleable\"><input class=\"sk-toggleable__control sk-hidden--visually\" id=\"cdfcfb6a-636c-4614-995e-27c6e47863bb\" type=\"checkbox\" ><label for=\"cdfcfb6a-636c-4614-995e-27c6e47863bb\" class=\"sk-toggleable__label sk-toggleable__label-arrow\">ColumnTransformer</label><div class=\"sk-toggleable__content\"><pre>ColumnTransformer(transformers=[(&#x27;categorical&#x27;,\n",
              "                                 Pipeline(steps=[(&#x27;imputation_consatnt&#x27;,\n",
              "                                                  SimpleImputer(fill_value=&#x27;missing&#x27;,\n",
              "                                                                strategy=&#x27;constant&#x27;)),\n",
              "                                                 (&#x27;onehot&#x27;,\n",
              "                                                  OneHotEncoder(handle_unknown=&#x27;ignore&#x27;))]),\n",
              "                                 [&#x27;gender&#x27;, &#x27;City&#x27;]),\n",
              "                                (&#x27;numerical&#x27;,\n",
              "                                 Pipeline(steps=[(&#x27;imputation_mean&#x27;,\n",
              "                                                  SimpleImputer()),\n",
              "                                                 (&#x27;scaler&#x27;, StandardScaler())]),\n",
              "                                 [&#x27;age&#x27;, &#x27;height&#x27;])])</pre></div></div></div><div class=\"sk-parallel\"><div class=\"sk-parallel-item\"><div class=\"sk-item\"><div class=\"sk-label-container\"><div class=\"sk-label sk-toggleable\"><input class=\"sk-toggleable__control sk-hidden--visually\" id=\"0b07d0df-ead0-41be-a9e9-70ad99c5bfd4\" type=\"checkbox\" ><label for=\"0b07d0df-ead0-41be-a9e9-70ad99c5bfd4\" class=\"sk-toggleable__label sk-toggleable__label-arrow\">categorical</label><div class=\"sk-toggleable__content\"><pre>[&#x27;gender&#x27;, &#x27;City&#x27;]</pre></div></div></div><div class=\"sk-serial\"><div class=\"sk-item\"><div class=\"sk-serial\"><div class=\"sk-item\"><div class=\"sk-estimator sk-toggleable\"><input class=\"sk-toggleable__control sk-hidden--visually\" id=\"a60e6d79-1e79-4812-b897-0ad5f654144d\" type=\"checkbox\" ><label for=\"a60e6d79-1e79-4812-b897-0ad5f654144d\" class=\"sk-toggleable__label sk-toggleable__label-arrow\">SimpleImputer</label><div class=\"sk-toggleable__content\"><pre>SimpleImputer(fill_value=&#x27;missing&#x27;, strategy=&#x27;constant&#x27;)</pre></div></div></div><div class=\"sk-item\"><div class=\"sk-estimator sk-toggleable\"><input class=\"sk-toggleable__control sk-hidden--visually\" id=\"c552f6a0-fb4d-41fa-a660-4a0c70af3ada\" type=\"checkbox\" ><label for=\"c552f6a0-fb4d-41fa-a660-4a0c70af3ada\" class=\"sk-toggleable__label sk-toggleable__label-arrow\">OneHotEncoder</label><div class=\"sk-toggleable__content\"><pre>OneHotEncoder(handle_unknown=&#x27;ignore&#x27;)</pre></div></div></div></div></div></div></div></div><div class=\"sk-parallel-item\"><div class=\"sk-item\"><div class=\"sk-label-container\"><div class=\"sk-label sk-toggleable\"><input class=\"sk-toggleable__control sk-hidden--visually\" id=\"f5132caa-d709-492d-96f7-99413e79fdce\" type=\"checkbox\" ><label for=\"f5132caa-d709-492d-96f7-99413e79fdce\" class=\"sk-toggleable__label sk-toggleable__label-arrow\">numerical</label><div class=\"sk-toggleable__content\"><pre>[&#x27;age&#x27;, &#x27;height&#x27;]</pre></div></div></div><div class=\"sk-serial\"><div class=\"sk-item\"><div class=\"sk-serial\"><div class=\"sk-item\"><div class=\"sk-estimator sk-toggleable\"><input class=\"sk-toggleable__control sk-hidden--visually\" id=\"24385620-1cef-42a9-9e42-380c34a76fb4\" type=\"checkbox\" ><label for=\"24385620-1cef-42a9-9e42-380c34a76fb4\" class=\"sk-toggleable__label sk-toggleable__label-arrow\">SimpleImputer</label><div class=\"sk-toggleable__content\"><pre>SimpleImputer()</pre></div></div></div><div class=\"sk-item\"><div class=\"sk-estimator sk-toggleable\"><input class=\"sk-toggleable__control sk-hidden--visually\" id=\"6e584963-dcd0-47de-a118-d703e48d1e3c\" type=\"checkbox\" ><label for=\"6e584963-dcd0-47de-a118-d703e48d1e3c\" class=\"sk-toggleable__label sk-toggleable__label-arrow\">StandardScaler</label><div class=\"sk-toggleable__content\"><pre>StandardScaler()</pre></div></div></div></div></div></div></div></div></div></div></div></div>"
            ]
          },
          "metadata": {},
          "execution_count": 28
        }
      ],
      "source": [
        "preprocessor"
      ]
    },
    {
      "cell_type": "code",
      "execution_count": 29,
      "metadata": {
        "id": "jIr3qq1ZBFtk"
      },
      "outputs": [],
      "source": [
        "from sklearn.pipeline import make_pipeline"
      ]
    },
    {
      "cell_type": "code",
      "execution_count": 30,
      "metadata": {
        "id": "NKHqiUufBFtl"
      },
      "outputs": [],
      "source": [
        "pipe=make_pipeline(preprocessor,LogisticRegression())"
      ]
    },
    {
      "cell_type": "code",
      "execution_count": 31,
      "metadata": {
        "colab": {
          "base_uri": "https://localhost:8080/",
          "height": 227
        },
        "id": "tD9LbKE2BFtl",
        "outputId": "399100b5-240a-4bac-a3f4-fec4cbc5daab"
      },
      "outputs": [
        {
          "output_type": "execute_result",
          "data": {
            "text/plain": [
              "Pipeline(steps=[('columntransformer',\n",
              "                 ColumnTransformer(transformers=[('categorical',\n",
              "                                                  Pipeline(steps=[('imputation_consatnt',\n",
              "                                                                   SimpleImputer(fill_value='missing',\n",
              "                                                                                 strategy='constant')),\n",
              "                                                                  ('onehot',\n",
              "                                                                   OneHotEncoder(handle_unknown='ignore'))]),\n",
              "                                                  ['gender', 'City']),\n",
              "                                                 ('numerical',\n",
              "                                                  Pipeline(steps=[('imputation_mean',\n",
              "                                                                   SimpleImputer()),\n",
              "                                                                  ('scaler',\n",
              "                                                                   StandardScaler())]),\n",
              "                                                  ['age', 'height'])])),\n",
              "                ('logisticregression', LogisticRegression())])"
            ],
            "text/html": [
              "<style>#sk-e1d21671-9c56-4c0c-97c5-1b8eba04684b {color: black;background-color: white;}#sk-e1d21671-9c56-4c0c-97c5-1b8eba04684b pre{padding: 0;}#sk-e1d21671-9c56-4c0c-97c5-1b8eba04684b div.sk-toggleable {background-color: white;}#sk-e1d21671-9c56-4c0c-97c5-1b8eba04684b label.sk-toggleable__label {cursor: pointer;display: block;width: 100%;margin-bottom: 0;padding: 0.3em;box-sizing: border-box;text-align: center;}#sk-e1d21671-9c56-4c0c-97c5-1b8eba04684b label.sk-toggleable__label-arrow:before {content: \"▸\";float: left;margin-right: 0.25em;color: #696969;}#sk-e1d21671-9c56-4c0c-97c5-1b8eba04684b label.sk-toggleable__label-arrow:hover:before {color: black;}#sk-e1d21671-9c56-4c0c-97c5-1b8eba04684b div.sk-estimator:hover label.sk-toggleable__label-arrow:before {color: black;}#sk-e1d21671-9c56-4c0c-97c5-1b8eba04684b div.sk-toggleable__content {max-height: 0;max-width: 0;overflow: hidden;text-align: left;background-color: #f0f8ff;}#sk-e1d21671-9c56-4c0c-97c5-1b8eba04684b div.sk-toggleable__content pre {margin: 0.2em;color: black;border-radius: 0.25em;background-color: #f0f8ff;}#sk-e1d21671-9c56-4c0c-97c5-1b8eba04684b input.sk-toggleable__control:checked~div.sk-toggleable__content {max-height: 200px;max-width: 100%;overflow: auto;}#sk-e1d21671-9c56-4c0c-97c5-1b8eba04684b input.sk-toggleable__control:checked~label.sk-toggleable__label-arrow:before {content: \"▾\";}#sk-e1d21671-9c56-4c0c-97c5-1b8eba04684b div.sk-estimator input.sk-toggleable__control:checked~label.sk-toggleable__label {background-color: #d4ebff;}#sk-e1d21671-9c56-4c0c-97c5-1b8eba04684b div.sk-label input.sk-toggleable__control:checked~label.sk-toggleable__label {background-color: #d4ebff;}#sk-e1d21671-9c56-4c0c-97c5-1b8eba04684b input.sk-hidden--visually {border: 0;clip: rect(1px 1px 1px 1px);clip: rect(1px, 1px, 1px, 1px);height: 1px;margin: -1px;overflow: hidden;padding: 0;position: absolute;width: 1px;}#sk-e1d21671-9c56-4c0c-97c5-1b8eba04684b div.sk-estimator {font-family: monospace;background-color: #f0f8ff;border: 1px dotted black;border-radius: 0.25em;box-sizing: border-box;margin-bottom: 0.5em;}#sk-e1d21671-9c56-4c0c-97c5-1b8eba04684b div.sk-estimator:hover {background-color: #d4ebff;}#sk-e1d21671-9c56-4c0c-97c5-1b8eba04684b div.sk-parallel-item::after {content: \"\";width: 100%;border-bottom: 1px solid gray;flex-grow: 1;}#sk-e1d21671-9c56-4c0c-97c5-1b8eba04684b div.sk-label:hover label.sk-toggleable__label {background-color: #d4ebff;}#sk-e1d21671-9c56-4c0c-97c5-1b8eba04684b div.sk-serial::before {content: \"\";position: absolute;border-left: 1px solid gray;box-sizing: border-box;top: 2em;bottom: 0;left: 50%;}#sk-e1d21671-9c56-4c0c-97c5-1b8eba04684b div.sk-serial {display: flex;flex-direction: column;align-items: center;background-color: white;padding-right: 0.2em;padding-left: 0.2em;}#sk-e1d21671-9c56-4c0c-97c5-1b8eba04684b div.sk-item {z-index: 1;}#sk-e1d21671-9c56-4c0c-97c5-1b8eba04684b div.sk-parallel {display: flex;align-items: stretch;justify-content: center;background-color: white;}#sk-e1d21671-9c56-4c0c-97c5-1b8eba04684b div.sk-parallel::before {content: \"\";position: absolute;border-left: 1px solid gray;box-sizing: border-box;top: 2em;bottom: 0;left: 50%;}#sk-e1d21671-9c56-4c0c-97c5-1b8eba04684b div.sk-parallel-item {display: flex;flex-direction: column;position: relative;background-color: white;}#sk-e1d21671-9c56-4c0c-97c5-1b8eba04684b div.sk-parallel-item:first-child::after {align-self: flex-end;width: 50%;}#sk-e1d21671-9c56-4c0c-97c5-1b8eba04684b div.sk-parallel-item:last-child::after {align-self: flex-start;width: 50%;}#sk-e1d21671-9c56-4c0c-97c5-1b8eba04684b div.sk-parallel-item:only-child::after {width: 0;}#sk-e1d21671-9c56-4c0c-97c5-1b8eba04684b div.sk-dashed-wrapped {border: 1px dashed gray;margin: 0 0.4em 0.5em 0.4em;box-sizing: border-box;padding-bottom: 0.4em;background-color: white;position: relative;}#sk-e1d21671-9c56-4c0c-97c5-1b8eba04684b div.sk-label label {font-family: monospace;font-weight: bold;background-color: white;display: inline-block;line-height: 1.2em;}#sk-e1d21671-9c56-4c0c-97c5-1b8eba04684b div.sk-label-container {position: relative;z-index: 2;text-align: center;}#sk-e1d21671-9c56-4c0c-97c5-1b8eba04684b div.sk-container {/* jupyter's `normalize.less` sets `[hidden] { display: none; }` but bootstrap.min.css set `[hidden] { display: none !important; }` so we also need the `!important` here to be able to override the default hidden behavior on the sphinx rendered scikit-learn.org. See: https://github.com/scikit-learn/scikit-learn/issues/21755 */display: inline-block !important;position: relative;}#sk-e1d21671-9c56-4c0c-97c5-1b8eba04684b div.sk-text-repr-fallback {display: none;}</style><div id=\"sk-e1d21671-9c56-4c0c-97c5-1b8eba04684b\" class=\"sk-top-container\"><div class=\"sk-text-repr-fallback\"><pre>Pipeline(steps=[(&#x27;columntransformer&#x27;,\n",
              "                 ColumnTransformer(transformers=[(&#x27;categorical&#x27;,\n",
              "                                                  Pipeline(steps=[(&#x27;imputation_consatnt&#x27;,\n",
              "                                                                   SimpleImputer(fill_value=&#x27;missing&#x27;,\n",
              "                                                                                 strategy=&#x27;constant&#x27;)),\n",
              "                                                                  (&#x27;onehot&#x27;,\n",
              "                                                                   OneHotEncoder(handle_unknown=&#x27;ignore&#x27;))]),\n",
              "                                                  [&#x27;gender&#x27;, &#x27;City&#x27;]),\n",
              "                                                 (&#x27;numerical&#x27;,\n",
              "                                                  Pipeline(steps=[(&#x27;imputation_mean&#x27;,\n",
              "                                                                   SimpleImputer()),\n",
              "                                                                  (&#x27;scaler&#x27;,\n",
              "                                                                   StandardScaler())]),\n",
              "                                                  [&#x27;age&#x27;, &#x27;height&#x27;])])),\n",
              "                (&#x27;logisticregression&#x27;, LogisticRegression())])</pre><b>Please rerun this cell to show the HTML repr or trust the notebook.</b></div><div class=\"sk-container\" hidden><div class=\"sk-item sk-dashed-wrapped\"><div class=\"sk-label-container\"><div class=\"sk-label sk-toggleable\"><input class=\"sk-toggleable__control sk-hidden--visually\" id=\"b5d8b7a4-887e-4972-8458-b17f5bc913a7\" type=\"checkbox\" ><label for=\"b5d8b7a4-887e-4972-8458-b17f5bc913a7\" class=\"sk-toggleable__label sk-toggleable__label-arrow\">Pipeline</label><div class=\"sk-toggleable__content\"><pre>Pipeline(steps=[(&#x27;columntransformer&#x27;,\n",
              "                 ColumnTransformer(transformers=[(&#x27;categorical&#x27;,\n",
              "                                                  Pipeline(steps=[(&#x27;imputation_consatnt&#x27;,\n",
              "                                                                   SimpleImputer(fill_value=&#x27;missing&#x27;,\n",
              "                                                                                 strategy=&#x27;constant&#x27;)),\n",
              "                                                                  (&#x27;onehot&#x27;,\n",
              "                                                                   OneHotEncoder(handle_unknown=&#x27;ignore&#x27;))]),\n",
              "                                                  [&#x27;gender&#x27;, &#x27;City&#x27;]),\n",
              "                                                 (&#x27;numerical&#x27;,\n",
              "                                                  Pipeline(steps=[(&#x27;imputation_mean&#x27;,\n",
              "                                                                   SimpleImputer()),\n",
              "                                                                  (&#x27;scaler&#x27;,\n",
              "                                                                   StandardScaler())]),\n",
              "                                                  [&#x27;age&#x27;, &#x27;height&#x27;])])),\n",
              "                (&#x27;logisticregression&#x27;, LogisticRegression())])</pre></div></div></div><div class=\"sk-serial\"><div class=\"sk-item sk-dashed-wrapped\"><div class=\"sk-label-container\"><div class=\"sk-label sk-toggleable\"><input class=\"sk-toggleable__control sk-hidden--visually\" id=\"372799d9-7648-48bc-a782-a5026da9a526\" type=\"checkbox\" ><label for=\"372799d9-7648-48bc-a782-a5026da9a526\" class=\"sk-toggleable__label sk-toggleable__label-arrow\">columntransformer: ColumnTransformer</label><div class=\"sk-toggleable__content\"><pre>ColumnTransformer(transformers=[(&#x27;categorical&#x27;,\n",
              "                                 Pipeline(steps=[(&#x27;imputation_consatnt&#x27;,\n",
              "                                                  SimpleImputer(fill_value=&#x27;missing&#x27;,\n",
              "                                                                strategy=&#x27;constant&#x27;)),\n",
              "                                                 (&#x27;onehot&#x27;,\n",
              "                                                  OneHotEncoder(handle_unknown=&#x27;ignore&#x27;))]),\n",
              "                                 [&#x27;gender&#x27;, &#x27;City&#x27;]),\n",
              "                                (&#x27;numerical&#x27;,\n",
              "                                 Pipeline(steps=[(&#x27;imputation_mean&#x27;,\n",
              "                                                  SimpleImputer()),\n",
              "                                                 (&#x27;scaler&#x27;, StandardScaler())]),\n",
              "                                 [&#x27;age&#x27;, &#x27;height&#x27;])])</pre></div></div></div><div class=\"sk-parallel\"><div class=\"sk-parallel-item\"><div class=\"sk-item\"><div class=\"sk-label-container\"><div class=\"sk-label sk-toggleable\"><input class=\"sk-toggleable__control sk-hidden--visually\" id=\"d690969e-ca69-4cda-8517-c5b8f797d616\" type=\"checkbox\" ><label for=\"d690969e-ca69-4cda-8517-c5b8f797d616\" class=\"sk-toggleable__label sk-toggleable__label-arrow\">categorical</label><div class=\"sk-toggleable__content\"><pre>[&#x27;gender&#x27;, &#x27;City&#x27;]</pre></div></div></div><div class=\"sk-serial\"><div class=\"sk-item\"><div class=\"sk-serial\"><div class=\"sk-item\"><div class=\"sk-estimator sk-toggleable\"><input class=\"sk-toggleable__control sk-hidden--visually\" id=\"ccce7839-18f8-4b22-9cb4-2ca568c78e47\" type=\"checkbox\" ><label for=\"ccce7839-18f8-4b22-9cb4-2ca568c78e47\" class=\"sk-toggleable__label sk-toggleable__label-arrow\">SimpleImputer</label><div class=\"sk-toggleable__content\"><pre>SimpleImputer(fill_value=&#x27;missing&#x27;, strategy=&#x27;constant&#x27;)</pre></div></div></div><div class=\"sk-item\"><div class=\"sk-estimator sk-toggleable\"><input class=\"sk-toggleable__control sk-hidden--visually\" id=\"3c8b4013-5b45-4c80-abe8-d53442d1e3ba\" type=\"checkbox\" ><label for=\"3c8b4013-5b45-4c80-abe8-d53442d1e3ba\" class=\"sk-toggleable__label sk-toggleable__label-arrow\">OneHotEncoder</label><div class=\"sk-toggleable__content\"><pre>OneHotEncoder(handle_unknown=&#x27;ignore&#x27;)</pre></div></div></div></div></div></div></div></div><div class=\"sk-parallel-item\"><div class=\"sk-item\"><div class=\"sk-label-container\"><div class=\"sk-label sk-toggleable\"><input class=\"sk-toggleable__control sk-hidden--visually\" id=\"e082727d-c7ec-48fb-b160-bdd40df1d87c\" type=\"checkbox\" ><label for=\"e082727d-c7ec-48fb-b160-bdd40df1d87c\" class=\"sk-toggleable__label sk-toggleable__label-arrow\">numerical</label><div class=\"sk-toggleable__content\"><pre>[&#x27;age&#x27;, &#x27;height&#x27;]</pre></div></div></div><div class=\"sk-serial\"><div class=\"sk-item\"><div class=\"sk-serial\"><div class=\"sk-item\"><div class=\"sk-estimator sk-toggleable\"><input class=\"sk-toggleable__control sk-hidden--visually\" id=\"9ebf1d9b-540a-44e9-ad69-4f75b8d40974\" type=\"checkbox\" ><label for=\"9ebf1d9b-540a-44e9-ad69-4f75b8d40974\" class=\"sk-toggleable__label sk-toggleable__label-arrow\">SimpleImputer</label><div class=\"sk-toggleable__content\"><pre>SimpleImputer()</pre></div></div></div><div class=\"sk-item\"><div class=\"sk-estimator sk-toggleable\"><input class=\"sk-toggleable__control sk-hidden--visually\" id=\"11ed3bd6-b68d-40b5-a94e-7f3252820c07\" type=\"checkbox\" ><label for=\"11ed3bd6-b68d-40b5-a94e-7f3252820c07\" class=\"sk-toggleable__label sk-toggleable__label-arrow\">StandardScaler</label><div class=\"sk-toggleable__content\"><pre>StandardScaler()</pre></div></div></div></div></div></div></div></div></div></div><div class=\"sk-item\"><div class=\"sk-estimator sk-toggleable\"><input class=\"sk-toggleable__control sk-hidden--visually\" id=\"807ca34a-e36a-4493-8108-9caaec18cd3d\" type=\"checkbox\" ><label for=\"807ca34a-e36a-4493-8108-9caaec18cd3d\" class=\"sk-toggleable__label sk-toggleable__label-arrow\">LogisticRegression</label><div class=\"sk-toggleable__content\"><pre>LogisticRegression()</pre></div></div></div></div></div></div></div>"
            ]
          },
          "metadata": {},
          "execution_count": 31
        }
      ],
      "source": [
        "pipe"
      ]
    }
  ],
  "metadata": {
    "kernelspec": {
      "display_name": "Python 3",
      "language": "python",
      "name": "python3"
    },
    "language_info": {
      "codemirror_mode": {
        "name": "ipython",
        "version": 3
      },
      "file_extension": ".py",
      "mimetype": "text/x-python",
      "name": "python",
      "nbconvert_exporter": "python",
      "pygments_lexer": "ipython3",
      "version": "3.8.5"
    },
    "colab": {
      "provenance": []
    }
  },
  "nbformat": 4,
  "nbformat_minor": 0
}